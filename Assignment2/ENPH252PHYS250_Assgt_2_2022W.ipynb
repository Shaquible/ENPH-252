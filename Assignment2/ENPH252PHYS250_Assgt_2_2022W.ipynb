{
 "cells": [
  {
   "cell_type": "markdown",
   "metadata": {},
   "source": [
    "ENPH 252/PHYS 250 2022W Assignment 2\n",
    "====================================\n",
    "* Reply by completing this notebook, then submit it to onQ as an .ipnyb (not as a .pdf).  Document all answers.  Reply in a cell beneath each question, with comments in your code, and with illustrations including labels and titles.\n",
    "\n",
    "\n",
    "* This is open book, and you can work on this with others, but what you submit must reflect your individual work and not be copied from other sources (use of original variable names is recommended).  Rename notebook to YOURLASTNAME.ipynb before submitting."
   ]
  },
  {
   "cell_type": "markdown",
   "metadata": {},
   "source": [
    "Student last name and name:\n",
    "-------------------------\n",
    "Grade /100:\n",
    "----------"
   ]
  },
  {
   "cell_type": "markdown",
   "metadata": {},
   "source": [
    "Q1) (40 pts) Error propagation\n",
    "-- \n",
    "You may recall the classic formula for an ideal gas from your hischool chemistry class: $PV=nRT$ where $P$ is the pressure of a gas, $V$ is the volume the gas occupies, $n$ is the number of gas molecules in moles, $R$ is the ideal gas constant, and $T$ is the temperature of the gas. This formula describes an ideal gas where the particles are nonineractive and do not take up space themselves. This equation can be modified to account for these factors in the following way:\n",
    "\n",
    "$(P+\\frac{a}{v^2})(V-nb) = nRT$\n",
    "\n",
    "where $v = \\frac{V}{n}$, is the molar volume of a gas particle and $a$ and $b$ are constants. This formula, known as van der Waals equation, can be rearranged to solve for the pressure of a system in the following way:\n",
    "\n",
    "$P = \\frac{RT}{v-b} -\\frac{a}{v^2}$\n",
    "\n",
    "Physicists carefully measure and determine values and uncertainties for <i>a</i>, $b$, and $v$ corresponding to an unknown gas: $a = 1.4 \\pm 0.2$ bar*L<sup>2</sup>/mol<sup>2</sup>, $b = 0.032 \\pm 0.015$ L/mol, and $v = 22.4 \\pm 0.5$ L/mol.\n",
    "\n",
    "The ideal gas constant, $R = 8.31446 \\times 10^{-2}$ bar*L/(K*mol) and temperature $T = 200.0$ K are well known such that their uncertainty is insignificant. \n",
    "\n",
    "Using the sympy library and the rearranged van der Waals equation, determine $P$, its error, and its relative error, in units of bar.  Display all steps clearly. Assume the fluctuations of $a$, $b$, and $v$ are Gaussian and independent of one another. "
   ]
  },
  {
   "cell_type": "code",
   "execution_count": 29,
   "metadata": {},
   "outputs": [
    {
     "name": "stdout",
     "output_type": "stream",
     "text": [
      "P = 0.740634356478643 +/- 0.0240875960714654\n",
      "Relative Error = 3.25229255985237 %\n"
     ]
    }
   ],
   "source": [
    "import sympy as sym\n",
    "import numpy as np\n",
    "import matplotlib.pyplot as plt\n",
    "from scipy.stats import norm\n",
    "from scipy.stats import uniform\n",
    "v,b,a, R, T = sym.symbols('v b a R T')\n",
    "P = (R*T)/(v-b)-a/(v**2)\n",
    "  \n",
    "p = P.subs({v:22.4,b:0.032,a:1.4,R:r,T:t})\n",
    "dPdv = sym.diff(P,v)\n",
    "dPdb = sym.diff(P,b)\n",
    "dPda = sym.diff(P,a)\n",
    "sig_v, sig_b, sig_a = sym.symbols('\\sigma_v \\sigma_b \\sigma_a')\n",
    "sig_P = sym.sqrt(sig_v*dPdv**2+sig_b*dPdb**2+sig_a*dPda**2)\n",
    "sym.simplify(sig_P)\n",
    "val = [(v, 22.4), (b, 0.032), (a, 1.4), (R, 8.31446*10**-2), (T, 200), (sig_v, 0.5), (sig_b, 0.032), (sig_a, 0.2)]\n",
    "print(\"P =\", sym.N(P.subs(val)), \"+/-\", sym.N(sig_P.subs(val)))\n",
    "print(\"Relative Error =\", sym.N(sig_P.subs(val)/P.subs(val))*100, \"%\")"
   ]
  },
  {
   "cell_type": "markdown",
   "metadata": {},
   "source": [
    "Q2) Statistics\n",
    "--"
   ]
  },
  {
   "cell_type": "markdown",
   "metadata": {},
   "source": [
    "Q2.1) (10 pts) Using the scipy.stats library, draw $n=10^4$ events from a uniform distribution spanning $a=10$ to $b=30$."
   ]
  },
  {
   "cell_type": "code",
   "execution_count": 40,
   "metadata": {},
   "outputs": [
    {
     "data": {
      "image/png": "[encoded data removed]",
      "text/plain": [
       "<Figure size 432x288 with 1 Axes>"
      ]
     },
     "metadata": {
      "needs_background": "light"
     },
     "output_type": "display_data"
    }
   ],
   "source": [
    "n = 10**4\n",
    "uniformArr = uniform.rvs(loc=10, scale=20, size=n)\n"
   ]
  },
  {
   "cell_type": "markdown",
   "metadata": {},
   "source": [
    "Q2.2) (10 pts) Using numpy libraries, determine the average and standard deviation of the events drawn earlier."
   ]
  },
  {
   "cell_type": "code",
   "execution_count": 42,
   "metadata": {},
   "outputs": [
    {
     "name": "stdout",
     "output_type": "stream",
     "text": [
      "Average = 19.982401154946874\n",
      "Standard Deviation = 5.81020634214779\n"
     ]
    }
   ],
   "source": [
    "average = np.mean(uniformArr)\n",
    "stdDev = np.std(uniformArr, ddof=1)\n",
    "print(\"Average =\", average)\n",
    "print(\"Standard Deviation =\", stdDev)"
   ]
  },
  {
   "cell_type": "markdown",
   "metadata": {},
   "source": [
    "Q2.3) (10 pts) Using the matplotlib library, plot the distribution of these events, in terms of counts per bin, using 100 bins over the range 5-35."
   ]
  },
  {
   "cell_type": "code",
   "execution_count": 48,
   "metadata": {},
   "outputs": [
    {
     "data": {
      "image/png": "[encoded data removed]",
      "text/plain": [
       "<Figure size 432x288 with 1 Axes>"
      ]
     },
     "metadata": {
      "needs_background": "light"
     },
     "output_type": "display_data"
    }
   ],
   "source": [
    "bin = np.linspace(5, 35, 100, endpoint=True)\n",
    "plt.hist(uniformArr, bins=bin)\n",
    "plt.xlabel(\"Value\")\n",
    "plt.ylabel(\"Counts per bin\")\n",
    "plt.show()"
   ]
  },
  {
   "cell_type": "markdown",
   "metadata": {},
   "source": [
    "Q2.4) (10 pts) Overlay the count distribution of the original distribution (pdf scaled by number of counts and bin width)."
   ]
  },
  {
   "cell_type": "code",
   "execution_count": null,
   "metadata": {},
   "outputs": [],
   "source": []
  },
  {
   "cell_type": "markdown",
   "metadata": {},
   "source": [
    "Q.2.5) (10 pts) Now draw $m=10000$ groups of $n=2$ events from the same uniform distribution as earlier.  For each group of $n$, calculate the sum and the variance.  Plot the probability density of the averages."
   ]
  },
  {
   "cell_type": "code",
   "execution_count": null,
   "metadata": {},
   "outputs": [],
   "source": []
  },
  {
   "cell_type": "markdown",
   "metadata": {},
   "source": [
    "Q.2.6) (10 pts) Repeat the previous question for $m=10000$ groups of $n=100$ events.  Overlay a gaussian pdf of mean $20 n$ and standard deviation $(b-a) \\sqrt{n/12}$.  What do you notice?  Conclude."
   ]
  },
  {
   "cell_type": "code",
   "execution_count": null,
   "metadata": {},
   "outputs": [],
   "source": []
  },
  {
   "cell_type": "code",
   "execution_count": null,
   "metadata": {},
   "outputs": [],
   "source": []
  }
 ],
 "metadata": {
  "kernelspec": {
   "display_name": "Python 3",
   "language": "python",
   "name": "python3"
  },
  "language_info": {
   "codemirror_mode": {
    "name": "ipython",
    "version": 3
   },
   "file_extension": ".py",
   "mimetype": "text/x-python",
   "name": "python",
   "nbconvert_exporter": "python",
   "pygments_lexer": "ipython3",
   "version": "3.10.1"
  }
 },
 "nbformat": 4,
 "nbformat_minor": 4
}
