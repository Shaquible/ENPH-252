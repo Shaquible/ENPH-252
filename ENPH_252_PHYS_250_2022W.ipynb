{
 "cells": [
  {
   "cell_type": "markdown",
   "metadata": {},
   "source": [
    "ENPH 252/PHYS 250 2022W\n",
    "=================\n",
    "P. Di Stefano, Queen's\n",
    "\n",
    "* Course materials created by the course instructor, including all slides, presentations, handouts, tests, exams, videos, and other similar course materials, are the intellectual property of the instructor. It is a departure from academic integrity to distribute, publicly post, sell or otherwise disseminate an instructor’s course materials or to provide an instructor’s course materials to anyone else for distribution, posting, sale or other means of dissemination, without the instructor’s express consent. A student who engages in such conduct may be subject to penalty for a departure from academic integrity and may also face adverse legal consequences for infringement of intellectual property rights.  \n",
    "\n",
    "\n",
    "* We will often refer to R. Martin's notes available here: https://github.com/OSTP/DataAndErrorAnalysis/blob/master/tex/ErrorAnalysis.pdf\n",
    "\n",
    "\n",
    "* This file is provided to students to allow them to participate in lectures, but is not structured the way a proper python file should be, which is (see Lecture 12):\n",
    " * imports\n",
    " * global variables\n",
    " * class definitions\n",
    " * function definitions\n",
    " * main\n"
   ]
  },
  {
   "cell_type": "markdown",
   "metadata": {},
   "source": [
    "Lecture 1\n",
    "========="
   ]
  },
  {
   "cell_type": "markdown",
   "metadata": {},
   "source": [
    "* Display line numbers"
   ]
  },
  {
   "cell_type": "markdown",
   "metadata": {},
   "source": [
    "* Printing, importing libraries, checking version"
   ]
  },
  {
   "cell_type": "code",
   "execution_count": null,
   "metadata": {},
   "outputs": [],
   "source": [
    "print(\"Hello world\")"
   ]
  },
  {
   "cell_type": "code",
   "execution_count": null,
   "metadata": {},
   "outputs": [],
   "source": [
    "import sys\n",
    "print(sys.version_info)"
   ]
  },
  {
   "cell_type": "code",
   "execution_count": null,
   "metadata": {},
   "outputs": [],
   "source": [
    "print(\"Lorem ipsum dolor sit amet\")"
   ]
  },
  {
   "cell_type": "markdown",
   "metadata": {},
   "source": [
    "* Loops and tests"
   ]
  },
  {
   "cell_type": "code",
   "execution_count": null,
   "metadata": {},
   "outputs": [],
   "source": [
    "# Print integers\n",
    "print(\"1, 2, 3, 4, 5\")\n",
    "\n",
    "for i in range(5): print(i+1)\n",
    "\n",
    "for i in range(5):\n",
    "    print(i+1)\n",
    "    print(\"Value\")"
   ]
  },
  {
   "cell_type": "code",
   "execution_count": null,
   "metadata": {},
   "outputs": [],
   "source": [
    "# Print integers betwen 2 and 9 included\n",
    "for i in range(2, 10): print(i)\n",
    "    \n",
    "i = 2\n",
    "while i <=9:\n",
    "    print(i)\n",
    "    i+=1"
   ]
  },
  {
   "cell_type": "code",
   "execution_count": 6,
   "metadata": {},
   "outputs": [],
   "source": [
    "# Print odd integers between 2 and 9 included\n",
    "for i in range(2, 9, 2): print(i+1)\n",
    "\n",
    "for i in range(3, 10, 2): print(i)"
   ]
  },
  {
   "cell_type": "code",
   "execution_count": 7,
   "metadata": {},
   "outputs": [],
   "source": [
    "# Print even integers"
   ]
  },
  {
   "cell_type": "code",
   "execution_count": 8,
   "metadata": {},
   "outputs": [
    {
     "name": "stdout",
     "output_type": "stream",
     "text": [
      "2 True\n",
      "3 False\n",
      "4 True\n",
      "5 False\n",
      "6 True\n",
      "7 False\n",
      "8 True\n",
      "9 False\n"
     ]
    }
   ],
   "source": [
    "# Print integers and whether or not they are even\n",
    "for i in range(2, 10, 1): print(i, i%2==0)"
   ]
  },
  {
   "cell_type": "code",
   "execution_count": 9,
   "metadata": {},
   "outputs": [],
   "source": [
    "# Remainer of integer division of 3 by 2"
   ]
  },
  {
   "cell_type": "markdown",
   "metadata": {},
   "source": [
    "* Saving variables, clearing outputs"
   ]
  },
  {
   "cell_type": "code",
   "execution_count": 10,
   "metadata": {},
   "outputs": [
    {
     "name": "stdout",
     "output_type": "stream",
     "text": [
      "3\n"
     ]
    }
   ],
   "source": [
    "Bobba=3\n",
    "print(Bobba)"
   ]
  },
  {
   "cell_type": "code",
   "execution_count": 11,
   "metadata": {},
   "outputs": [
    {
     "name": "stdout",
     "output_type": "stream",
     "text": [
      "3\n"
     ]
    }
   ],
   "source": [
    "print(Bobba)"
   ]
  },
  {
   "cell_type": "markdown",
   "metadata": {},
   "source": [
    "Lecture 2\n",
    "========="
   ]
  },
  {
   "cell_type": "markdown",
   "metadata": {},
   "source": [
    "* Comments\n"
   ]
  },
  {
   "cell_type": "code",
   "execution_count": 12,
   "metadata": {},
   "outputs": [
    {
     "name": "stdout",
     "output_type": "stream",
     "text": [
      "3\n"
     ]
    }
   ],
   "source": [
    "# Single-line comment\n",
    "# print(Bobba)\n",
    "'''Multi\n",
    "line\n",
    "comment\n",
    "'''\n",
    "print(Bobba)"
   ]
  },
  {
   "cell_type": "markdown",
   "metadata": {},
   "source": [
    "* Types and operations"
   ]
  },
  {
   "cell_type": "code",
   "execution_count": 13,
   "metadata": {},
   "outputs": [
    {
     "name": "stdout",
     "output_type": "stream",
     "text": [
      "3 0.333\n",
      "<class 'int'>\n",
      "<class 'float'>\n",
      "1.5\n",
      "1.5\n"
     ]
    }
   ],
   "source": [
    "a, b = 3, 0.333\n",
    "print(a, b)\n",
    "print(type(a))\n",
    "print(type(b))\n",
    "print(3/2) # Might not work in python < 3\n",
    "print(3./2.) # Should always work"
   ]
  },
  {
   "cell_type": "markdown",
   "metadata": {},
   "source": [
    "* Lists, including zip, iterators and enumerate"
   ]
  },
  {
   "cell_type": "code",
   "execution_count": 14,
   "metadata": {},
   "outputs": [
    {
     "name": "stdout",
     "output_type": "stream",
     "text": [
      "<class 'int'> <class 'str'>\n",
      "[2, '2', 'Boba', 'Peter4', 'Peter5']\n",
      "2\n",
      "2\n",
      "Boba\n",
      "Peter4\n",
      "Peter5\n",
      "0 2\n",
      "1 2\n",
      "2 Boba\n",
      "3 Peter4\n",
      "4 Peter5\n",
      "Boba\n"
     ]
    }
   ],
   "source": [
    "a = [2, '2', 'Boba', 'Peter4', 'Peter5'] # List\n",
    "\n",
    "print(type(2), type('2'))\n",
    "\n",
    "print(a)\n",
    "\n",
    "for z in a: print(z) # Iterator\n",
    "    \n",
    "for i,x in enumerate(a): print(i, x)\n",
    "    \n",
    "print(a[2])"
   ]
  },
  {
   "cell_type": "code",
   "execution_count": 15,
   "metadata": {},
   "outputs": [
    {
     "name": "stdout",
     "output_type": "stream",
     "text": [
      "2\n",
      "2\n",
      "Boba\n",
      "Peter4\n",
      "Peter5\n"
     ]
    }
   ],
   "source": [
    "for i in range(len(a)): print(a[i])"
   ]
  },
  {
   "cell_type": "code",
   "execution_count": 16,
   "metadata": {},
   "outputs": [
    {
     "name": "stdout",
     "output_type": "stream",
     "text": [
      "2\n",
      "Boba\n",
      "Peter4\n",
      "Peter5\n"
     ]
    }
   ],
   "source": [
    "for z in a:\n",
    "    if not (z==2): print(z)"
   ]
  },
  {
   "cell_type": "code",
   "execution_count": 17,
   "metadata": {},
   "outputs": [
    {
     "name": "stdout",
     "output_type": "stream",
     "text": [
      "2\n",
      "Boba\n",
      "Peter4\n",
      "Peter5\n"
     ]
    }
   ],
   "source": [
    "for z in a:\n",
    "    if (z!=2): print(z)"
   ]
  },
  {
   "cell_type": "code",
   "execution_count": 18,
   "metadata": {},
   "outputs": [
    {
     "name": "stdout",
     "output_type": "stream",
     "text": [
      "True\n",
      "True\n"
     ]
    }
   ],
   "source": [
    "print(not (z==2))\n",
    "print(z != 2)"
   ]
  },
  {
   "cell_type": "code",
   "execution_count": 19,
   "metadata": {},
   "outputs": [
    {
     "name": "stdout",
     "output_type": "stream",
     "text": [
      "1 Ted\n",
      "1Ted\n",
      "1Ted3 252\n",
      "3252\n",
      "32524 250\n",
      "4250\n",
      "42506 Friday\n",
      "6Friday\n",
      "6Friday"
     ]
    }
   ],
   "source": [
    "a, b = [1, 3, '4', 6], ['Ted', 252, 250, 'Friday', 'Scream']\n",
    "for aa, bb in zip(a,b): \n",
    "    print(aa, bb)\n",
    "    print(str(aa)+ str(bb))\n",
    "    print(aa, bb, end=\"\", sep=\"\")"
   ]
  },
  {
   "cell_type": "code",
   "execution_count": 20,
   "metadata": {},
   "outputs": [
    {
     "name": "stdout",
     "output_type": "stream",
     "text": [
      "1 Ted\n",
      "1 252\n",
      "1 250\n",
      "1 Friday\n",
      "1 Scream\n",
      "3 Ted\n",
      "3 252\n",
      "3 250\n",
      "3 Friday\n",
      "3 Scream\n",
      "4 Ted\n",
      "4 252\n",
      "4 250\n",
      "4 Friday\n",
      "4 Scream\n",
      "6 Ted\n",
      "6 252\n",
      "6 250\n",
      "6 Friday\n",
      "6 Scream\n"
     ]
    }
   ],
   "source": [
    "for aa in a:\n",
    "    for bb in b: print(aa, bb)"
   ]
  },
  {
   "cell_type": "code",
   "execution_count": 21,
   "metadata": {},
   "outputs": [
    {
     "name": "stdout",
     "output_type": "stream",
     "text": [
      "[(1, 'Ted'), (3, 252), ('4', 250), (6, 'Friday')]\n"
     ]
    }
   ],
   "source": [
    "c= zip(a, b)\n",
    "print(list(c))"
   ]
  },
  {
   "cell_type": "markdown",
   "metadata": {},
   "source": [
    "* Lists, extending and appending"
   ]
  },
  {
   "cell_type": "code",
   "execution_count": 22,
   "metadata": {},
   "outputs": [
    {
     "name": "stdout",
     "output_type": "stream",
     "text": [
      "[1, 2, 55, 'Leia', 'Jabba']\n",
      "[33, '44']\n",
      "[1, 2, 55, 'Leia', 'Jabba', [33, '44']]\n"
     ]
    }
   ],
   "source": [
    "a = [1, 2, 55, 'Leia', 'Jabba']\n",
    "b = [33, '44']\n",
    "print(a); print(b)\n",
    "a.append(b)\n",
    "print(a)"
   ]
  },
  {
   "cell_type": "code",
   "execution_count": 23,
   "metadata": {},
   "outputs": [
    {
     "name": "stdout",
     "output_type": "stream",
     "text": [
      "[1, 2, 55, 'Leia', 'Jabba']\n",
      "[33, '44', 'Dune', 29]\n",
      "[1, 2, 55, 'Leia', 'Jabba', 33, '44', 'Dune', 29]\n"
     ]
    }
   ],
   "source": [
    "a = [1, 2, 55, 'Leia', 'Jabba']\n",
    "b = [33, '44', 'Dune', 29]\n",
    "print(a); print(b)\n",
    "a.extend(b)\n",
    "print(a)"
   ]
  },
  {
   "cell_type": "code",
   "execution_count": null,
   "metadata": {},
   "outputs": [],
   "source": []
  },
  {
   "cell_type": "markdown",
   "metadata": {},
   "source": [
    "* Slicing lists"
   ]
  },
  {
   "cell_type": "code",
   "execution_count": 24,
   "metadata": {},
   "outputs": [
    {
     "name": "stdout",
     "output_type": "stream",
     "text": [
      "['Scream', 'Titanic', \"Don't look up\", 'Multiverse']\n",
      "['Titanic', \"Don't look up\", 'Multiverse']\n",
      "['Scream', 'Titanic', \"Don't look up\"]\n",
      "['Scream', \"Don't look up\"]\n"
     ]
    }
   ],
   "source": [
    "a = ['Scream', 'Titanic', \"Don't look up\", \"Multiverse\"]\n",
    "print(a) # All elements\n",
    "print(a[1:]) # All elements but first\n",
    "print(a[:-1]) # All elements but last\n",
    "print(a[::2]) # Every other"
   ]
  },
  {
   "cell_type": "code",
   "execution_count": 25,
   "metadata": {},
   "outputs": [
    {
     "name": "stdout",
     "output_type": "stream",
     "text": [
      "[0, 1, 2, 3, 4, 5, 6, 7, 8, 9, 10, 11, 12, 13, 14, 15, 16, 17, 18, 19, 20, 21, 22, 23, 24, 25, 26, 27, 28, 29, 30, 31, 32, 33, 34, 35, 36]\n",
      "[0, 2, 4, 6, 8, 10, 12, 14, 16, 18, 20, 22, 24, 26, 28, 30, 32, 34, 36]\n",
      "[1, 3, 5, 7, 9, 11, 13, 15, 17, 19, 21, 23, 25, 27, 29, 31, 33, 35]\n",
      "[32, 33, 34, 35, 36]\n"
     ]
    }
   ],
   "source": [
    "a = range(37)\n",
    "print(list(a)) # All\n",
    "print(list(a[0::2])) # Even elements\n",
    "print(list(a[1::2])) # Odd elements\n",
    "print(list(a[-5::])) # Last five"
   ]
  },
  {
   "cell_type": "code",
   "execution_count": 26,
   "metadata": {},
   "outputs": [
    {
     "name": "stdout",
     "output_type": "stream",
     "text": [
      "[0, 1, 2, 3, 4, 5, 6, 7, 8, 9]\n",
      "[0, 1, 4, 9, 16, 25, 36, 49, 64, 81]\n"
     ]
    }
   ],
   "source": [
    "a=list(range(10))\n",
    "print(a)\n",
    "b=[x**2 for x in a] # Squares\n",
    "print(b)\n"
   ]
  },
  {
   "cell_type": "markdown",
   "metadata": {},
   "source": [
    "Lecture 3\n",
    "========="
   ]
  },
  {
   "cell_type": "markdown",
   "metadata": {},
   "source": [
    "* Dictionnaries"
   ]
  },
  {
   "cell_type": "code",
   "execution_count": 27,
   "metadata": {},
   "outputs": [
    {
     "name": "stdout",
     "output_type": "stream",
     "text": [
      "{'Grade': 33, 'Name': 'Strange', 'Age': 21}\n",
      "Grade 33\n",
      "Name Strange\n",
      "Age 21\n",
      "Grade 33\n",
      "Name Strange\n",
      "Age 21\n",
      "Height 43\n",
      "Grade\n",
      "Name\n",
      "Age\n",
      "Height\n",
      "Strange\n"
     ]
    }
   ],
   "source": [
    "a={'Grade': 33, 'Name': 'Strange', 'Age': 21} # Create a dictionnary\n",
    "print(a)\n",
    "for z in a: print(z, a[z])\n",
    "a['Height']=43 # Add an element\n",
    "for z in a: print(z, a[z])\n",
    "for z in a: print(z)\n",
    "print(a['Name'])\n"
   ]
  },
  {
   "cell_type": "markdown",
   "metadata": {},
   "source": [
    " * Create a dictionnary with iterator"
   ]
  },
  {
   "cell_type": "code",
   "execution_count": 28,
   "metadata": {},
   "outputs": [
    {
     "name": "stdout",
     "output_type": "stream",
     "text": [
      "[10, 12, 14, 16, 18]\n",
      "{10: 100, 12: 144, 14: 196, 16: 256, 18: 324}\n"
     ]
    }
   ],
   "source": [
    "x = list(range(10, 20, 2))\n",
    "\n",
    "print(x)\n",
    "\n",
    "xDict = {xx: xx**2 for xx in x}\n",
    "print(xDict)"
   ]
  },
  {
   "cell_type": "markdown",
   "metadata": {},
   "source": [
    "* Complex numbers and the cmath library"
   ]
  },
  {
   "cell_type": "code",
   "execution_count": 29,
   "metadata": {},
   "outputs": [
    {
     "name": "stdout",
     "output_type": "stream",
     "text": [
      "(1+1j) (2-3j)\n",
      "<class 'complex'>\n"
     ]
    }
   ],
   "source": [
    "z1=1+1j\n",
    "z2=complex(2, -3)\n",
    "print(z1, z2)\n",
    "print(type(z1))"
   ]
  },
  {
   "cell_type": "code",
   "execution_count": 30,
   "metadata": {},
   "outputs": [
    {
     "name": "stdout",
     "output_type": "stream",
     "text": [
      "1.0 1.0 1.4142135623730951 (1-1j)\n"
     ]
    }
   ],
   "source": [
    "print(z1.real, z1.imag, abs(z1), z1.conjugate())"
   ]
  },
  {
   "cell_type": "code",
   "execution_count": 31,
   "metadata": {},
   "outputs": [
    {
     "name": "stdout",
     "output_type": "stream",
     "text": [
      "(1+1j)\n",
      "(1.4142135623730951, 0.7853981633974483)\n",
      "0.7853981633974483 1.4142135623730951\n",
      "0.7853981633974483\n"
     ]
    }
   ],
   "source": [
    "import cmath as cm # Import comlext math library\n",
    "print(z1)\n",
    "\n",
    "zzPol = cm.polar(z1) # Tuple\n",
    "print(zzPol)\n",
    "argument, magnitude = zzPol[1], zzPol[0]\n",
    "print(argument, magnitude)\n",
    "\n",
    "argument2 = cm.phase(z1)\n",
    "print(argument2)\n"
   ]
  },
  {
   "cell_type": "markdown",
   "metadata": {},
   "source": [
    "* Functions"
   ]
  },
  {
   "cell_type": "code",
   "execution_count": 32,
   "metadata": {},
   "outputs": [
    {
     "name": "stdout",
     "output_type": "stream",
     "text": [
      "27\n",
      "(101, 22)\n",
      "{'Square': 1}\n"
     ]
    }
   ],
   "source": [
    "def prod(x, y): return x * y\n",
    "\n",
    "print(prod(3, 9))\n",
    "\n",
    "def nothing(x, y): return (x, y)\n",
    "print(nothing(101, 22))\n",
    "\n",
    "def returnDiction(lab, val):\n",
    "    y=val**2\n",
    "    return {lab: y}\n",
    "\n",
    "print(returnDiction('Square', -1))"
   ]
  },
  {
   "cell_type": "markdown",
   "metadata": {},
   "source": [
    "* Series and parallel impedances:\n",
    " * Series: $Z_1+Z_2$\n",
    " * Parallel: $\\frac{1}{\\frac{1}{Z_1} + \\frac{1}{Z_2}} = \\frac{Z_1 Z_2}{Z_1 + Z_2}$"
   ]
  },
  {
   "cell_type": "code",
   "execution_count": 33,
   "metadata": {},
   "outputs": [
    {
     "name": "stdout",
     "output_type": "stream",
     "text": [
      "10j\n",
      "(123+10j)\n"
     ]
    }
   ],
   "source": [
    "def series(z1, z2): return z1 + z2\n",
    "\n",
    "omega_rads = 1\n",
    "zInduc = 10j * omega_rads\n",
    "print(zInduc)\n",
    "\n",
    "zResistor = 123\n",
    "print(series(zInduc, zResistor))"
   ]
  },
  {
   "cell_type": "markdown",
   "metadata": {},
   "source": [
    "* Recursive function"
   ]
  },
  {
   "cell_type": "code",
   "execution_count": 34,
   "metadata": {},
   "outputs": [
    {
     "name": "stdout",
     "output_type": "stream",
     "text": [
      "24\n",
      "24\n"
     ]
    }
   ],
   "source": [
    "def fact(n):\n",
    "    if (n==0): return 1\n",
    "    else: return n * fact(n-1)\n",
    "        \n",
    "print(fact(4))\n",
    "\n",
    "def factCompact(n): return 1 if (n==1) else n*factCompact(n-1)\n",
    "\n",
    "print(factCompact(4))"
   ]
  },
  {
   "cell_type": "markdown",
   "metadata": {},
   "source": [
    "* Plotting with matplotlib"
   ]
  },
  {
   "cell_type": "code",
   "execution_count": 35,
   "metadata": {},
   "outputs": [
    {
     "name": "stdout",
     "output_type": "stream",
     "text": [
      "[0, 3, 6, 9] [0, 9, 36, 81]\n"
     ]
    }
   ],
   "source": [
    "x = list(range(0, 10, 3))\n",
    "y = [xx**2 for xx in x]\n",
    "print(x, y)"
   ]
  },
  {
   "cell_type": "code",
   "execution_count": 36,
   "metadata": {},
   "outputs": [
    {
     "data": {
      "text/plain": [
       "Text(0.5, 1.0, 'Our function')"
      ]
     },
     "execution_count": 36,
     "metadata": {},
     "output_type": "execute_result"
    },
    {
     "data": {
      "image/png": "[encoded data removed]",
      "text/plain": [
       "<Figure size 432x288 with 1 Axes>"
      ]
     },
     "metadata": {
      "needs_background": "light"
     },
     "output_type": "display_data"
    }
   ],
   "source": [
    "import matplotlib.pyplot as plt # For plots\n",
    "plt.plot(x, y, 'ro')\n",
    "plt.xlabel('x'); plt.ylabel(r'$x^2$'); plt.title('Our function')\n",
    "#plt.show()"
   ]
  },
  {
   "cell_type": "code",
   "execution_count": 37,
   "metadata": {},
   "outputs": [],
   "source": [
    "#Histograms\n",
    "from scipy.stats import uniform\n",
    "n=10\n",
    "dat = uniform.rvs(size=n)\n",
    "#print(dat)"
   ]
  },
  {
   "cell_type": "code",
   "execution_count": 38,
   "metadata": {},
   "outputs": [
    {
     "data": {
      "image/png": "[encoded data removed]",
      "text/plain": [
       "<Figure size 432x288 with 1 Axes>"
      ]
     },
     "metadata": {
      "needs_background": "light"
     },
     "output_type": "display_data"
    },
    {
     "data": {
      "image/png": "[encoded data removed]",
      "text/plain": [
       "<Figure size 432x288 with 1 Axes>"
      ]
     },
     "metadata": {
      "needs_background": "light"
     },
     "output_type": "display_data"
    }
   ],
   "source": [
    "import matplotlib.pyplot as plt # For plots\n",
    "plt.hist(dat, bins=100)\n",
    "plt.xlabel('x'); plt.ylabel('Counts per bin')\n",
    "plt.show()\n",
    "#print(dat)\n",
    "plt.plot(x, y, 'ro')\n",
    "plt.show()\n"
   ]
  },
  {
   "cell_type": "code",
   "execution_count": null,
   "metadata": {},
   "outputs": [],
   "source": []
  },
  {
   "cell_type": "markdown",
   "metadata": {},
   "source": [
    "* Reading line-by-line from a text file: fName = \"/Users/distefano/Documents/Code_Svn/PHYS_313/BobaFettsBook.txt\""
   ]
  },
  {
   "cell_type": "code",
   "execution_count": 39,
   "metadata": {},
   "outputs": [
    {
     "name": "stdout",
     "output_type": "stream",
     "text": [
      "Back from the sarlacc.\n",
      "\n",
      "Action! Adventure! Spinoffs!\n",
      "\n",
      "Who ordered cuddly???????\n",
      "\n"
     ]
    }
   ],
   "source": [
    "fName = \"/Users/distefano/Documents/Code_Svn/PHYS_313/BobaFettsBook.txt\"\n",
    "with open(fName, 'r') as inFile:\n",
    "    for l in inFile: print(l)"
   ]
  },
  {
   "cell_type": "markdown",
   "metadata": {},
   "source": [
    " * Reading data line-by-line from texy file:  fName = \"/Users/distefano/Documents/Code_Svn/PHYS_313/Data_02.txt\""
   ]
  },
  {
   "cell_type": "code",
   "execution_count": 40,
   "metadata": {},
   "outputs": [
    {
     "name": "stdout",
     "output_type": "stream",
     "text": [
      "[0.0, 0.001000100010001, 0.002000200020002, 0.003000300030003, 0.004000400040004, 0.005000500050005001, 0.006000600060006, 0.0070007000700070005, 0.008000800080008, 0.009000900090009001, 0.010001000100010001] [-67.43465300307739, -0.6076995338653992, -40.57204649569913, 10.48718590128934, -54.677248498310945, 11.371058023013626, 16.985434201921834, -11.356331676561101, -24.321487229850913, 9.265425754101207, -2.822545291277453] [0.0, 4.955991148669823e-06, 1.982396459467929e-05, 4.4603920338028396e-05, 7.929585837871716e-05, 0.00012389977871674556, 0.00017841568135211358, 0.0002428435662848213, 0.00031718343351486866, 0.00040143528304225566, 0.0004955991148669822]\n"
     ]
    }
   ],
   "source": [
    "fName = \"/Users/distefano/Documents/Code_Svn/PHYS_313/Data_02.txt\"\n",
    "x, y, z = [], [], []\n",
    "with open(fName, 'r') as inFile:\n",
    "    for l in inFile:\n",
    "        s = l.split()\n",
    "        #print(s)\n",
    "        x.append(float(s[0]))\n",
    "        y.append(float(s[1]))\n",
    "        z.append(float(s[2]))\n",
    "print(x, y, z)"
   ]
  },
  {
   "cell_type": "markdown",
   "metadata": {},
   "source": [
    "* Reading from a text file (many other methods possible, eg np.loadtxt(), pandas.read_csv())"
   ]
  },
  {
   "cell_type": "code",
   "execution_count": null,
   "metadata": {},
   "outputs": [],
   "source": []
  },
  {
   "cell_type": "code",
   "execution_count": null,
   "metadata": {},
   "outputs": [],
   "source": []
  },
  {
   "cell_type": "markdown",
   "metadata": {},
   "source": [
    "* Distributions, histograms, bins!"
   ]
  },
  {
   "cell_type": "code",
   "execution_count": 41,
   "metadata": {},
   "outputs": [
    {
     "name": "stdout",
     "output_type": "stream",
     "text": [
      "<class 'numpy.ndarray'>\n"
     ]
    },
    {
     "data": {
      "text/plain": [
       "Text(0.5, 1.0, 'Unform distribution, 10000 samples')"
      ]
     },
     "execution_count": 41,
     "metadata": {},
     "output_type": "execute_result"
    },
    {
     "data": {
      "image/png": "[encoded data removed]",
      "text/plain": [
       "<Figure size 432x288 with 1 Axes>"
      ]
     },
     "metadata": {
      "needs_background": "light"
     },
     "output_type": "display_data"
    }
   ],
   "source": [
    "import matplotlib.pyplot as plt\n",
    "\n",
    "# Draw random data\n",
    "n=10000\n",
    "from scipy.stats import uniform\n",
    "dat = uniform.rvs(loc=10.0, scale=30.0, size=n) # Drawing random variables from a uniform distribution\n",
    "print(type(dat))\n",
    "#print(dat)\n",
    "\n",
    "# Distribution of data\n",
    "plt.hist(dat, bins=5)\n",
    "plt.xlabel('x'); plt.ylabel('Counts per bin'); plt.title('Unform distribution, ' + str(n) + ' samples')"
   ]
  },
  {
   "cell_type": "code",
   "execution_count": 42,
   "metadata": {},
   "outputs": [
    {
     "name": "stdout",
     "output_type": "stream",
     "text": [
      "[ 0.  1.  2.  3.  4.  5.  6.  7.  8.  9. 10.]\n",
      "[10. 11. 12. 13. 14. 15. 16. 17. 18. 19. 20.]\n",
      "[100. 121. 144. 169. 196. 225. 256. 289. 324. 361. 400.]\n",
      "[10. 12. 14. 16. 18. 20. 22. 24. 26. 28. 30.]\n",
      "[-10. -10. -10. -10. -10. -10. -10. -10. -10. -10. -10.]\n",
      "[  0.  11.  24.  39.  56.  75.  96. 119. 144. 171. 200.]\n",
      "[1.e+01 1.e+02 1.e+03 1.e+04 1.e+05]\n"
     ]
    }
   ],
   "source": [
    "import numpy as np # Powerful math libraries for python\n",
    "\n",
    "x = np.linspace(0, 10, 11) # Linear spacing\n",
    "print(x)\n",
    "#print(list(x))\n",
    "\n",
    "y = np.linspace(10, 20, 11)\n",
    "print(y)\n",
    "print(y**2)\n",
    "print(x+y)\n",
    "print(x-y)\n",
    "print(x*y)\n",
    "\n",
    "z = np.logspace(1, 5, 5) # Log spacing\n",
    "print(z)"
   ]
  },
  {
   "cell_type": "code",
   "execution_count": 43,
   "metadata": {},
   "outputs": [
    {
     "data": {
      "text/plain": [
       "Text(0.5, 1.0, 'Unform distribution, 10000 samples')"
      ]
     },
     "execution_count": 43,
     "metadata": {},
     "output_type": "execute_result"
    },
    {
     "data": {
      "image/png": "[encoded data removed]",
      "text/plain": [
       "<Figure size 432x288 with 1 Axes>"
      ]
     },
     "metadata": {
      "needs_background": "light"
     },
     "output_type": "display_data"
    }
   ],
   "source": [
    "bns = np.linspace(10, 40, 12) # Bin edges\n",
    "plt.hist(dat, bins=bns)\n",
    "plt.xlabel('x'); plt.ylabel('Counts per bin'); plt.title('Unform distribution, ' + str(n) + ' samples')"
   ]
  },
  {
   "cell_type": "code",
   "execution_count": 44,
   "metadata": {},
   "outputs": [
    {
     "data": {
      "image/png": "[encoded data removed]",
      "text/plain": [
       "<Figure size 432x288 with 1 Axes>"
      ]
     },
     "metadata": {
      "needs_background": "light"
     },
     "output_type": "display_data"
    },
    {
     "data": {
      "image/png": "[encoded data removed]",
      "text/plain": [
       "<Figure size 432x288 with 1 Axes>"
      ]
     },
     "metadata": {
      "needs_background": "light"
     },
     "output_type": "display_data"
    },
    {
     "data": {
      "image/png": "[encoded data removed]",
      "text/plain": [
       "<Figure size 432x288 with 1 Axes>"
      ]
     },
     "metadata": {
      "needs_background": "light"
     },
     "output_type": "display_data"
    },
    {
     "data": {
      "image/png": "[encoded data removed]",
      "text/plain": [
       "<Figure size 432x288 with 1 Axes>"
      ]
     },
     "metadata": {
      "needs_background": "light"
     },
     "output_type": "display_data"
    }
   ],
   "source": [
    "x=np.logspace(0, 3, 10)\n",
    "#print(x.size)\n",
    "#print(len(x))\n",
    "y=x**0.5\n",
    "plt.plot(x, y, 'bo'); plt.title('Linear'); plt.show()\n",
    "plt.plot(x, y, 'bo'); plt.title('Log x'); plt.xscale(\"log\"); plt.show()\n",
    "plt.plot(x, y, 'bo'); plt.title('Log y'); plt.yscale(\"log\"); plt.show()\n",
    "plt.plot(x, y, 'bo'); plt.title('Log y, log y'); plt.xscale(\"log\"); plt.yscale(\"log\"); plt.show()\n",
    "\n",
    "#plt.semilogx(x, y, 'bo'); plt.title('Log y'); plt.show()\n",
    "#plt.loglog(x, y, 'bo'); plt.title('Log log'); plt.show()"
   ]
  },
  {
   "cell_type": "code",
   "execution_count": 45,
   "metadata": {},
   "outputs": [
    {
     "name": "stdout",
     "output_type": "stream",
     "text": [
      "<class 'numpy.ndarray'>\n"
     ]
    },
    {
     "data": {
      "image/png": "[encoded data removed]",
      "text/plain": [
       "<Figure size 432x288 with 1 Axes>"
      ]
     },
     "metadata": {
      "needs_background": "light"
     },
     "output_type": "display_data"
    },
    {
     "data": {
      "image/png": "[encoded data removed]",
      "text/plain": [
       "<Figure size 432x288 with 1 Axes>"
      ]
     },
     "metadata": {
      "needs_background": "light"
     },
     "output_type": "display_data"
    },
    {
     "data": {
      "image/png": "[encoded data removed]",
      "text/plain": [
       "<Figure size 432x288 with 1 Axes>"
      ]
     },
     "metadata": {
      "needs_background": "light"
     },
     "output_type": "display_data"
    }
   ],
   "source": [
    "# Draw random data\n",
    "n=10000\n",
    "from scipy.stats import uniform\n",
    "dat = uniform.rvs(loc=10.0, scale=30.0, size=n) # Drawing random variables from a uniform distribution\n",
    "print(type(dat))\n",
    "#print(dat)\n",
    "\n",
    "# Distribution of data: effect of bins\n",
    "plt.hist(dat, bins=[10, 11, 20, 40], log=False)\n",
    "plt.xlabel('x'); plt.ylabel('Counts per bin'); plt.title('Unform distribution, ' + str(n) + ' samples' + '\\nSum of bin heights = samples'); plt.show()\n",
    "\n",
    "# Vertical log scale\n",
    "plt.hist(dat, bins=[10, 11, 20, 40], log=True)\n",
    "plt.xlabel('x'); plt.ylabel('Counts per bin'); plt.title('Unform distribution, ' + str(n) + ' samples, log y scale' + '\\nSum of bin heights = samples'); plt.show()\n",
    "\n",
    "# Density\n",
    "plt.hist(dat, bins=[10, 11, 20, 40], density=True)\n",
    "plt.xlabel('x'); plt.ylabel('Probability per unit x'); plt.title('Unform distribution, ' + str(n) + ' samples' + '\\nIntegral of bins=1'); plt.show()\n"
   ]
  },
  {
   "cell_type": "markdown",
   "metadata": {},
   "source": [
    "Lecture 4\n",
    "========="
   ]
  },
  {
   "cell_type": "markdown",
   "metadata": {},
   "source": [
    "* Uncertainties (Martin, Sec 3)\n",
    " * Random: equally likely on either side of true value, effect diminishes as number of measurements increases\n",
    " * Systematic: always to one side of true value, not affected by number of measurements"
   ]
  },
  {
   "cell_type": "markdown",
   "metadata": {},
   "source": [
    " * Uncertainties from graduated scales\n",
    " * Uncertainties on repeatable measurements: series of measurements $\\left\\{ x_i \\right\\}$\n",
    "  * Mean: best estimate $\\bar{x} = \\frac{1}{n}\\sum x_i$\n",
    "  * Standard deviation: uncertainty on a single measurement $\\sigma_x = \\sqrt{\\frac{1}{n-1} \\sum (x_i - \\bar{x})^2}$\n",
    "  * Error on mean: error on best estimate $\\sigma_{\\bar{x}} = \\frac{\\sigma_x}{\\sqrt{n}}$\n",
    "  In general, if no other sources of error, the interval $\\bar{x} \\pm \\sigma_{\\bar{x}}$ contains the true value 68\\% of the time"
   ]
  },
  {
   "cell_type": "markdown",
   "metadata": {},
   "source": [
    "Lecture 5\n",
    "========="
   ]
  },
  {
   "cell_type": "markdown",
   "metadata": {},
   "source": [
    "* Central value and uncertainty on following measurement (Martin, Chpt 3)"
   ]
  },
  {
   "cell_type": "code",
   "execution_count": 46,
   "metadata": {},
   "outputs": [
    {
     "data": {
      "image/png": "[encoded data removed]",
      "text/plain": [
       "<Figure size 432x288 with 1 Axes>"
      ]
     },
     "metadata": {
      "needs_background": "light"
     },
     "output_type": "display_data"
    }
   ],
   "source": [
    "from scipy.stats import uniform # Import library\n",
    "import numpy as np\n",
    "import matplotlib.pyplot as plt\n",
    "\n",
    "\n",
    "xRng= np.linspace(-0.1, 1.1, 1000) # Range for display of distribution\n",
    "plt.plot(xRng, uniform.pdf(xRng), 'r-', lw=3)\n",
    "plt.xlabel('x'); plt.ylabel('Probability density'); plt.title('Probability density function')\n",
    "\n",
    "n=10000 # Number of samples to draw\n",
    "x = uniform.rvs(size=n)\n",
    "#print(x)\n",
    "plt.hist(x, bins=29, density=True)\n",
    "\n",
    "\n",
    "\n",
    "plt.show()"
   ]
  },
  {
   "cell_type": "code",
   "execution_count": 47,
   "metadata": {},
   "outputs": [
    {
     "name": "stdout",
     "output_type": "stream",
     "text": [
      "0.5877491024447721 +- 0.09071189453965327\n"
     ]
    }
   ],
   "source": [
    "n=10 # Number of samples to draw\n",
    "x = uniform.rvs(size=n)\n",
    "expectedAv=0.5\n",
    "\n",
    "mean = np.mean(x)\n",
    "\n",
    "std = np.std(x, ddof=1)\n",
    "\n",
    "meanErr = std/np.sqrt(n)\n",
    "\n",
    "print(str(mean) + \" +- \" + str(meanErr))\n",
    "\n"
   ]
  },
  {
   "cell_type": "markdown",
   "metadata": {},
   "source": [
    "* How does this behave when more samples?"
   ]
  },
  {
   "cell_type": "code",
   "execution_count": 48,
   "metadata": {},
   "outputs": [
    {
     "name": "stdout",
     "output_type": "stream",
     "text": [
      "{'Mean': 0.5955031443651968, 'Error': 0.06748860381084537, 'Covers': False}\n",
      "{'Mean': 0.47103596651031443, 'Error': 0.10718280905027747, 'Covers': True}\n"
     ]
    }
   ],
   "source": [
    "def simulation(n=10): # Note default argument\n",
    "    x = uniform.rvs(size=n)\n",
    "    \n",
    "    mean = np.mean(x)\n",
    "    std = np.std(x, ddof=1)\n",
    "    meanErr = std/np.sqrt(n)\n",
    "    \n",
    "    expectedAv=0.5\n",
    "\n",
    "    return {'Mean': mean, 'Error': meanErr, 'Covers': mean - meanErr <= expectedAv <= mean + meanErr}\n",
    "\n",
    "print(simulation(n=22))\n",
    "print(simulation())\n"
   ]
  },
  {
   "cell_type": "code",
   "execution_count": 49,
   "metadata": {},
   "outputs": [
    {
     "data": {
      "image/png": "[encoded data removed]",
      "text/plain": [
       "<Figure size 432x288 with 1 Axes>"
      ]
     },
     "metadata": {
      "needs_background": "light"
     },
     "output_type": "display_data"
    }
   ],
   "source": [
    "n = np.linspace(2, 11, 10, dtype=int) if False else range(10, 1000)\n",
    "#print(n)\n",
    "\n",
    "if False: err = [simulation(int(nn))['Error'] for nn in n]\n",
    "else: \n",
    "    vfunc = np.vectorize(simulation) # Numpy library vectorized functions are generally faster than for loops, but vectorizing a function this way won't necessarily make it fast\n",
    "    err = [v['Error'] for v in vfunc(n)]\n",
    "#print(err)\n",
    "\n",
    "plt.plot(n, err, 'b-', lw=3)\n",
    "plt.xlabel('Number of samples'); plt.ylabel('Error on mean')\n",
    "plt.show()"
   ]
  },
  {
   "cell_type": "markdown",
   "metadata": {},
   "source": [
    " * Coverage 68%"
   ]
  },
  {
   "cell_type": "code",
   "execution_count": 50,
   "metadata": {},
   "outputs": [
    {
     "name": "stdout",
     "output_type": "stream",
     "text": [
      "0.694\n",
      "0.697\n",
      "0.664\n",
      "0.695\n"
     ]
    }
   ],
   "source": [
    "m = 1000 # Number of sims\n",
    "coverage=[]\n",
    "for i in range(m):\n",
    "    if simulation(n=1000)['Covers'] == True: coverage.append(1)\n",
    "overallCov = len(coverage)/m\n",
    "\n",
    "print(overallCov)\n",
    "\n",
    "coverage=[]\n",
    "for i in range(m):\n",
    "    if simulation(n=1000)['Covers']: coverage.append(1)\n",
    "overallCov = len(coverage)/m\n",
    "\n",
    "print(overallCov)\n",
    "\n",
    "cov_tot=0\n",
    "for i in range(m): cov_tot += simulation(n=1000)['Covers']\n",
    "print(cov_tot/m)\n",
    "\n",
    "\n",
    "covs = [simulation(n=1000)['Covers'] for i in range(m)]\n",
    "print(sum(covs)/len(covs))\n",
    "\n",
    "#covs2 = [simulation(n=1000)['Covers']]*m\n",
    "#print(sum(covs2)/len(covs2))\n",
    "\n",
    "#print([1]*3)"
   ]
  },
  {
   "cell_type": "code",
   "execution_count": null,
   "metadata": {},
   "outputs": [],
   "source": []
  },
  {
   "cell_type": "code",
   "execution_count": null,
   "metadata": {},
   "outputs": [],
   "source": []
  },
  {
   "cell_type": "markdown",
   "metadata": {},
   "source": [
    " * Significant digits"
   ]
  },
  {
   "cell_type": "code",
   "execution_count": 51,
   "metadata": {},
   "outputs": [
    {
     "name": "stdout",
     "output_type": "stream",
     "text": [
      "0.67\n",
      "0.67\n"
     ]
    },
    {
     "data": {
      "text/plain": [
       "'6.67E-01'"
      ]
     },
     "execution_count": 51,
     "metadata": {},
     "output_type": "execute_result"
    }
   ],
   "source": [
    "a=2/3\n",
    "print(\"%.2f\" % a) # Changes display\n",
    "print(round(a, 2)) # Creates a new var\n",
    "\n",
    "format(a, '0.2E')"
   ]
  },
  {
   "cell_type": "markdown",
   "metadata": {},
   "source": [
    "* Uncertainty on number of counts $n$: $\\sqrt{n}$ (68\\% coverage), if $n$ large enough"
   ]
  },
  {
   "cell_type": "code",
   "execution_count": null,
   "metadata": {},
   "outputs": [],
   "source": []
  },
  {
   "cell_type": "markdown",
   "metadata": {},
   "source": []
  },
  {
   "cell_type": "markdown",
   "metadata": {},
   "source": [
    "Lecture 6\n",
    "==="
   ]
  },
  {
   "cell_type": "markdown",
   "metadata": {},
   "source": [
    "* Gaussian (aka normal) distribution, central limit theorem"
   ]
  },
  {
   "cell_type": "code",
   "execution_count": 52,
   "metadata": {},
   "outputs": [
    {
     "name": "stdout",
     "output_type": "stream",
     "text": [
      "Start\n",
      "[ 8.068795    2.15458373 -0.6114262  ... 19.90855286 19.48727879\n",
      "  6.55386954]\n",
      "mu +- sig contains 68% of area\n"
     ]
    },
    {
     "data": {
      "image/png": "[encoded data removed]",
      "text/plain": [
       "<Figure size 432x288 with 1 Axes>"
      ]
     },
     "metadata": {
      "needs_background": "light"
     },
     "output_type": "display_data"
    }
   ],
   "source": [
    "from scipy.stats import norm\n",
    "\n",
    "n = 10000\n",
    "mu, sig = 10.0, 10.0\n",
    "\n",
    "print(\"Start\")\n",
    "\n",
    "x = norm.rvs(loc=mu, scale=sig, size = n)\n",
    "print(x)\n",
    "\n",
    "# Much slower\n",
    "#y = [norm.rvs(loc=mu, scale=sig, size=1)[0] for i in range(n)]\n",
    "#print(y[:10])\n",
    "\n",
    "import matplotlib.pyplot as plt\n",
    "plt.hist(x, bins=30, density=True)\n",
    "plt.xlabel('x'); plt.ylabel('Prob density')\n",
    "\n",
    "import numpy as np\n",
    "xRng = np.linspace(-20, 40, 200)\n",
    "plt.plot(xRng, norm.pdf(xRng, loc=mu, scale=sig), 'r-', lw=3)\n",
    "\n",
    "print('mu +- sig contains 68% of area')"
   ]
  },
  {
   "cell_type": "markdown",
   "metadata": {},
   "source": [
    "* Propagating uncertainties (Martin, Chpt 4), uncorrelated, Gaussian case"
   ]
  },
  {
   "cell_type": "markdown",
   "metadata": {},
   "source": [
    "* Trick for relative uncertainties"
   ]
  },
  {
   "cell_type": "markdown",
   "metadata": {},
   "source": [
    "* Using sympy to propagate errors (Martin, Chpt 4.4): https://docs.sympy.org/latest/index.html"
   ]
  },
  {
   "cell_type": "code",
   "execution_count": 53,
   "metadata": {},
   "outputs": [
    {
     "name": "stdout",
     "output_type": "stream",
     "text": [
      "2*h/t**2\n"
     ]
    },
    {
     "data": {
      "text/latex": [
       "$\\displaystyle \\frac{2 h}{t^{2}}$"
      ],
      "text/plain": [
       "2*h/t**2"
      ]
     },
     "metadata": {},
     "output_type": "display_data"
    }
   ],
   "source": [
    "import sympy as sym\n",
    "\n",
    "h, t, sig_h, sig_t = sym.symbols('h t \\sigma_h \\sigma_t')\n",
    "g = 2 * h / t**2\n",
    "g\n",
    "print(g)\n",
    "display(g) # Useful way to display"
   ]
  },
  {
   "cell_type": "code",
   "execution_count": 54,
   "metadata": {},
   "outputs": [
    {
     "data": {
      "text/latex": [
       "$\\displaystyle \\frac{2 h}{t^{2}}$"
      ],
      "text/plain": [
       "2*h/t**2"
      ]
     },
     "metadata": {},
     "output_type": "display_data"
    }
   ],
   "source": [
    "display(g)"
   ]
  },
  {
   "cell_type": "markdown",
   "metadata": {},
   "source": [
    "* Partial derivatives"
   ]
  },
  {
   "cell_type": "code",
   "execution_count": 55,
   "metadata": {},
   "outputs": [
    {
     "data": {
      "text/latex": [
       "$\\displaystyle \\frac{2}{t^{2}}$"
      ],
      "text/plain": [
       "2/t**2"
      ]
     },
     "execution_count": 55,
     "metadata": {},
     "output_type": "execute_result"
    }
   ],
   "source": [
    "dgdh = sym.diff(g, h)\n",
    "dgdh"
   ]
  },
  {
   "cell_type": "code",
   "execution_count": 56,
   "metadata": {},
   "outputs": [
    {
     "data": {
      "text/latex": [
       "$\\displaystyle - \\frac{4 h}{t^{3}}$"
      ],
      "text/plain": [
       "-4*h/t**3"
      ]
     },
     "execution_count": 56,
     "metadata": {},
     "output_type": "execute_result"
    }
   ],
   "source": [
    "dgdt = sym.diff(g, t)\n",
    "dgdt"
   ]
  },
  {
   "cell_type": "markdown",
   "metadata": {},
   "source": [
    "* Symbolic calculation"
   ]
  },
  {
   "cell_type": "code",
   "execution_count": 57,
   "metadata": {},
   "outputs": [
    {
     "data": {
      "text/latex": [
       "$\\displaystyle \\sqrt{\\frac{4 \\sigma_h^{2}}{t^{4}} + \\frac{16 \\sigma_t^{2} h^{2}}{t^{6}}}$"
      ],
      "text/plain": [
       "sqrt(4*\\sigma_h**2/t**4 + 16*\\sigma_t**2*h**2/t**6)"
      ]
     },
     "execution_count": 57,
     "metadata": {},
     "output_type": "execute_result"
    }
   ],
   "source": [
    "sig_g = sym.sqrt((dgdt * sig_t)**2 + (dgdh * sig_h)**2)\n",
    "sig_g"
   ]
  },
  {
   "cell_type": "code",
   "execution_count": 58,
   "metadata": {},
   "outputs": [
    {
     "data": {
      "text/latex": [
       "$\\displaystyle 2 \\sqrt{\\frac{\\sigma_h^{2} t^{2} + 4 \\sigma_t^{2} h^{2}}{t^{6}}}$"
      ],
      "text/plain": [
       "2*sqrt((\\sigma_h**2*t**2 + 4*\\sigma_t**2*h**2)/t**6)"
      ]
     },
     "execution_count": 58,
     "metadata": {},
     "output_type": "execute_result"
    }
   ],
   "source": [
    "sym.simplify(sig_g)"
   ]
  },
  {
   "cell_type": "markdown",
   "metadata": {},
   "source": [
    "* Numerical values"
   ]
  },
  {
   "cell_type": "code",
   "execution_count": 59,
   "metadata": {},
   "outputs": [
    {
     "data": {
      "text/latex": [
       "$\\displaystyle 11.8343195266272$"
      ],
      "text/plain": [
       "11.8343195266272"
      ]
     },
     "execution_count": 59,
     "metadata": {},
     "output_type": "execute_result"
    }
   ],
   "source": [
    "nh = 10.0\n",
    "val = [(h, nh), (t, 1.3), (sig_h, 1), (sig_t, 0.0013*nh)]\n",
    "ng = sym.N(g.subs(val))\n",
    "ng"
   ]
  },
  {
   "cell_type": "code",
   "execution_count": 60,
   "metadata": {},
   "outputs": [
    {
     "data": {
      "text/latex": [
       "$\\displaystyle 1.20686852392729$"
      ],
      "text/plain": [
       "1.20686852392729"
      ]
     },
     "execution_count": 60,
     "metadata": {},
     "output_type": "execute_result"
    }
   ],
   "source": [
    "nsig_g = sym.N(sig_g.subs(val))\n",
    "nsig_g"
   ]
  },
  {
   "cell_type": "code",
   "execution_count": 61,
   "metadata": {},
   "outputs": [
    {
     "name": "stdout",
     "output_type": "stream",
     "text": [
      "11.8 +- 1.2\n"
     ]
    }
   ],
   "source": [
    "print(str(\"%.1f\" % ng) + ' +- ' + str(\"%.1f\" % nsig_g))"
   ]
  },
  {
   "cell_type": "code",
   "execution_count": 62,
   "metadata": {},
   "outputs": [
    {
     "data": {
      "text/latex": [
       "$\\displaystyle 11.8343195266272$"
      ],
      "text/plain": [
       "11.8343195266272"
      ]
     },
     "execution_count": 62,
     "metadata": {},
     "output_type": "execute_result"
    }
   ],
   "source": [
    "g.subs(val)"
   ]
  },
  {
   "cell_type": "markdown",
   "metadata": {},
   "source": [
    "* N vs subs"
   ]
  },
  {
   "cell_type": "code",
   "execution_count": 63,
   "metadata": {},
   "outputs": [
    {
     "data": {
      "text/latex": [
       "$\\displaystyle -484$"
      ],
      "text/plain": [
       "-484"
      ]
     },
     "execution_count": 63,
     "metadata": {},
     "output_type": "execute_result"
    }
   ],
   "source": [
    "a, b = sym.symbols('\\cal{a} \\cal{b}')\n",
    "c = a * b\n",
    "c\n",
    "\n",
    "vals = [(a, 22), (b, -22)]\n",
    "ng = c.subs(vals)\n",
    "ng"
   ]
  },
  {
   "cell_type": "code",
   "execution_count": 64,
   "metadata": {},
   "outputs": [
    {
     "data": {
      "text/latex": [
       "$\\displaystyle 5.0 \\cal{a}$"
      ],
      "text/plain": [
       "5.0*\\cal{a}"
      ]
     },
     "execution_count": 64,
     "metadata": {},
     "output_type": "execute_result"
    }
   ],
   "source": [
    "ng2 = sym.N(5*a)\n",
    "ng2"
   ]
  },
  {
   "cell_type": "markdown",
   "metadata": {},
   "source": [
    "Lecture 7\n",
    "========="
   ]
  },
  {
   "cell_type": "markdown",
   "metadata": {},
   "source": [
    " * Plotting error bars (https://matplotlib.org/3.1.1/api/_as_gen/matplotlib.pyplot.errorbar.html)"
   ]
  },
  {
   "cell_type": "markdown",
   "metadata": {},
   "source": [
    "* Fitting: least squares"
   ]
  },
  {
   "cell_type": "code",
   "execution_count": 65,
   "metadata": {},
   "outputs": [
    {
     "data": {
      "image/png": "[encoded data removed]",
      "text/plain": [
       "<Figure size 432x288 with 1 Axes>"
      ]
     },
     "metadata": {
      "needs_background": "light"
     },
     "output_type": "display_data"
    }
   ],
   "source": [
    "t_s = [0.35446, 0.765, 2.2, 3.4, 4.1, 4.76, 5.1, 7.7, 9.8] # Sampling times\n",
    "g_ms2 = 9.81\n",
    "\n",
    "xIdeal_m = [0.5 * g_ms2 * tt**2  for tt in t_s] # Measured heights if no errors\n",
    "\n",
    "import matplotlib.pyplot as plt\n",
    "plt.plot(t_s, xIdeal_m, 'bo')\n",
    "plt.xlabel('t (s)'); plt.ylabel('h (m)'); plt.title('Freefall')\n",
    "plt.show()"
   ]
  },
  {
   "cell_type": "code",
   "execution_count": 94,
   "metadata": {},
   "outputs": [
    {
     "name": "stdout",
     "output_type": "stream",
     "text": [
      "[50.0, 50.0, 50.0, 50.0, 50.0, 50.0, 50.0, 50.0, 50.0] [101.62472657679946, -40.643209631343595, -39.26147340578841, -28.612213404199423, 56.335365925986814, -11.758429570210684, -25.189228538354318, 7.602878440585151, 141.50026790301337] [102.24100005509746, -37.772681006343596, -15.521273405788403, 28.089586595800576, 138.7884159259868, 99.37709842978931, 102.38982146164568, 298.4203284405852, 612.5764679030135]\n"
     ]
    }
   ],
   "source": [
    "xSigma_m = [1.0 for i in range(len(t_s))] if False else [50.0] * len(t_s) # Standard deviations at each measuremment\n",
    "#print(xSigma_m)\n",
    "\n",
    "from scipy.stats import norm\n",
    "xErr_m = [norm.rvs(loc=0, scale=s) for s in xSigma_m] # Actual error at each pt\n",
    "\n",
    "# Combine errors with ideal points\n",
    "xMeasured_m = [x+e for x, e in zip(xIdeal_m, xErr_m)]\n",
    "print(xSigma_m, xErr_m, xMeasured_m)\n"
   ]
  },
  {
   "cell_type": "code",
   "execution_count": 95,
   "metadata": {},
   "outputs": [
    {
     "data": {
      "text/plain": [
       "Text(0, 0.5, 'h (m)')"
      ]
     },
     "execution_count": 95,
     "metadata": {},
     "output_type": "execute_result"
    },
    {
     "data": {
      "image/png": "[encoded data removed]",
      "text/plain": [
       "<Figure size 432x288 with 1 Axes>"
      ]
     },
     "metadata": {
      "needs_background": "light"
     },
     "output_type": "display_data"
    }
   ],
   "source": [
    "plt.plot(t_s, xIdeal_m, 'bo')\n",
    "plt.plot(t_s, xMeasured_m, 'rx')\n",
    "plt.xlabel('t (s)'); plt.ylabel('h (m)')"
   ]
  },
  {
   "cell_type": "code",
   "execution_count": 96,
   "metadata": {},
   "outputs": [
    {
     "data": {
      "text/plain": [
       "Text(0, 0.5, 'h (m)')"
      ]
     },
     "execution_count": 96,
     "metadata": {},
     "output_type": "execute_result"
    },
    {
     "data": {
      "image/png": "[encoded data removed]",
      "text/plain": [
       "<Figure size 432x288 with 1 Axes>"
      ]
     },
     "metadata": {
      "needs_background": "light"
     },
     "output_type": "display_data"
    }
   ],
   "source": [
    "plt.errorbar(t_s, xIdeal_m, yerr=xSigma_m, marker='o', ls='')\n",
    "plt.plot(t_s, xMeasured_m, 'rx')\n",
    "plt.xlabel('t (s)'); plt.ylabel('h (m)')"
   ]
  },
  {
   "cell_type": "markdown",
   "metadata": {},
   "source": [
    " * Interlude: fun with zip"
   ]
  },
  {
   "cell_type": "code",
   "execution_count": 69,
   "metadata": {},
   "outputs": [
    {
     "name": "stdout",
     "output_type": "stream",
     "text": [
      "sour mean gaslight\n",
      "cream hair gatekeep\n",
      "bacon balls girlboss\n",
      "[('sour', 'mean', 'gaslight'), ('cream', 'hair', 'gatekeep'), ('bacon', 'balls', 'girlboss')]\n"
     ]
    }
   ],
   "source": [
    "potato, cat, peaky = ['sour', 'cream', 'bacon', 'chives', 'cheddar', 'tire', 'crouching'], ['mean', 'hair', 'balls', 'Tom', 'Jerry', 'tabby', 'tiger'], ['gaslight', 'gatekeep', 'girlboss']\n",
    "for p, c, e in zip(potato, cat, peaky): print(p, c, e)\n",
    "print(list(zip(potato, cat, peaky)))"
   ]
  },
  {
   "cell_type": "markdown",
   "metadata": {},
   "source": [
    "Lecture 8\n",
    "===="
   ]
  },
  {
   "cell_type": "markdown",
   "metadata": {},
   "source": [
    " * Minimizing with scipy.optimize  minimize"
   ]
  },
  {
   "cell_type": "code",
   "execution_count": 115,
   "metadata": {},
   "outputs": [
    {
     "name": "stdout",
     "output_type": "stream",
     "text": [
      "[50, 50, 50, 50, 50, 50, 50, 50, 50] [31.85678196828425, 3.207301733054335, 46.24616805270106, 13.593735973511281, -10.27632647308809, 62.818003316664495, 2.4924274413186476, -2.259839754146082, -49.167216372308346] [32.47305544658225, 6.077830358054335, 69.98636805270107, 70.29553597351128, 72.17672352691191, 173.95353131666448, 130.07147744131865, 288.557610245854, 421.9089836276918]\n"
     ]
    }
   ],
   "source": [
    "xSigma_m = [50.0 for i in range(len(t_s))] if False else [50] * len(t_s) # Standard deviations at each measuremment\n",
    "#print(xSigma_m)\n",
    "\n",
    "from scipy.stats import norm\n",
    "xErr_m = [norm.rvs(loc=0, scale=s) for s in xSigma_m] # Actual error at each pt\n",
    "\n",
    "# Combine errors with ideal points\n",
    "xMeasured_m = [x+e for x, e in zip(xIdeal_m, xErr_m)]\n",
    "print(xSigma_m, xErr_m, xMeasured_m)\n"
   ]
  },
  {
   "cell_type": "code",
   "execution_count": 111,
   "metadata": {},
   "outputs": [
    {
     "data": {
      "image/png": "[encoded data removed]",
      "text/plain": [
       "<Figure size 432x288 with 1 Axes>"
      ]
     },
     "metadata": {
      "needs_background": "light"
     },
     "output_type": "display_data"
    }
   ],
   "source": [
    "# The model\n",
    "def quadModel(a, t): return 0.5 * a * t**2\n",
    "\n",
    "# The D2\n",
    "def delta2(a): return np.sum([(x - quadModel(a, t))**2 for t, x in zip(t_s, xMeasured_m)])\n",
    "\n",
    "#plt.errorbar(t_s, xIdeal_m, yerr=xSigma_m, marker='o', ls='')\n",
    "\n",
    "gBogus_ms2 = 1.0\n",
    "tList_s  = np.linspace(t_s[0], t_s[-1], 100)\n",
    "\n",
    "plt.plot(tList_s, [quadModel(gBogus_ms2, t) for t in tList_s])\n",
    "plt.plot(t_s, xMeasured_m, 'rx')\n",
    "plt.xlabel('t (s)'); plt.ylabel('h (m)')\n",
    "plt.show()"
   ]
  },
  {
   "cell_type": "code",
   "execution_count": 112,
   "metadata": {},
   "outputs": [
    {
     "name": "stdout",
     "output_type": "stream",
     "text": [
      "Start: 11 5106.302253065516\n",
      "Minimized:  9.80775146484375 0.024610086440059003\n"
     ]
    },
    {
     "data": {
      "image/png": "[encoded data removed]",
      "text/plain": [
       "<Figure size 432x288 with 1 Axes>"
      ]
     },
     "metadata": {
      "needs_background": "light"
     },
     "output_type": "display_data"
    }
   ],
   "source": [
    "from scipy.optimize import minimize\n",
    "\n",
    "x0=[11] # Start value for minimization\n",
    "print(\"Start:\",  x0[0], delta2(x0[0]))\n",
    "res = minimize(delta2, x0, method='nelder-mead') # Does the minimization\n",
    "print(\"Minimized: \", res.x[0], delta2(res.x))\n",
    "\n",
    "plt.plot(t_s, xMeasured_m, 'bo')\n",
    "plt.plot(tList_s, [quadModel(x0[0], t) for t in tList_s], 'r-')\n",
    "plt.plot(tList_s, [quadModel(res.x, t) for t in tList_s], 'g-')\n",
    "plt.xlabel('t (s)'); plt.ylabel('h (m)'); plt.title(r'$\\Delta^2=$' + str(\"%.1f\" % delta2(res.x)) + ', ' + r'$\\hat{g} = $' + str(\"%.1f\" % res.x[0]))\n",
    "plt.show()"
   ]
  },
  {
   "cell_type": "code",
   "execution_count": 113,
   "metadata": {},
   "outputs": [
    {
     "name": "stdout",
     "output_type": "stream",
     "text": [
      "Start: [11, 22, 7.32] 181226.25410714754\n",
      "Minimized:  [ 9.81687118 -0.05082992  0.09975587] 0.0070653989713545685\n"
     ]
    },
    {
     "data": {
      "image/png": "[encoded data removed]",
      "text/plain": [
       "<Figure size 432x288 with 1 Axes>"
      ]
     },
     "metadata": {
      "needs_background": "light"
     },
     "output_type": "display_data"
    }
   ],
   "source": [
    "# The model\n",
    "def quadModel_2(a, b, c, t): return 0.5 * a * t**2 + b * t + c\n",
    "\n",
    "# The D2\n",
    "def delta2_2(xx): return np.sum([(x - quadModel_2(xx[0], xx[1], xx[2], t))**2 for t, x in zip(t_s, xMeasured_m)])\n",
    "\n",
    "x0=[11, 22, 7.32] # Start value for minimization\n",
    "print(\"Start:\",  x0, delta2_2(x0))\n",
    "res_2 = minimize(delta2_2, x0, method='nelder-mead') # Does the minimization\n",
    "print(\"Minimized: \", res_2.x, delta2_2(res_2.x))\n",
    "\n",
    "plt.plot(t_s, xMeasured_m, 'bo')\n",
    "#plt.plot(tList_s, [quadModel(x0[0], t) for t in tList_s], 'k-', lw=3, alp)\n",
    "plt.plot(tList_s, [quadModel(res.x, t) for t in tList_s], 'r-', lw=3)\n",
    "plt.plot(tList_s, [quadModel_2(res_2.x[0], res_2.x[1], res_2.x[2], t) for t in tList_s], 'g-', lw=3)\n",
    "plt.xlabel('t (s)'); plt.ylabel('h (m)')\n",
    "plt.title(r'$\\Delta^2=$' + str(\"%.1f\" % delta2(res.x)) + ', ' + r'$\\hat{g} = $' + str(\"%.1f\" % res.x[0]) + \"\\n\" + r'$\\Delta_2^2=$' + str(\"%.1f\" % delta2_2(res_2.x)) + ', ' + r'$\\hat{g_2} = $' + str(\"%.1f\" % res_2.x[0]))\n",
    "plt.show()"
   ]
  },
  {
   "cell_type": "markdown",
   "metadata": {},
   "source": [
    "* Minimizing functions (iminuit: https://iminuit.readthedocs.io/en/stable/, $ pip install iminuit, scipy minimize: https://docs.scipy.org/doc/scipy/reference/generated/scipy.optimize.minimize.html)\n",
    "\n",
    "NB: Why use iminuit?  Very useful for parameter estimation: doesn't just minimize $\\chi^2$, also estimates parameters and confidence intervals."
   ]
  },
  {
   "cell_type": "code",
   "execution_count": null,
   "metadata": {},
   "outputs": [],
   "source": []
  },
  {
   "cell_type": "markdown",
   "metadata": {
    "jupyter": {
     "source_hidden": true
    }
   },
   "source": [
    " * Adding parameters and overfitting"
   ]
  },
  {
   "cell_type": "code",
   "execution_count": null,
   "metadata": {},
   "outputs": [],
   "source": []
  },
  {
   "cell_type": "code",
   "execution_count": null,
   "metadata": {},
   "outputs": [],
   "source": []
  },
  {
   "cell_type": "markdown",
   "metadata": {},
   "source": [
    " * The $\\chi^2$ method is a least-squares weighted by the uncertainty on each measurement: $\\chi^2 =\\sum \\frac{(x_i-m_i)^2}{\\sigma_i^2}$, where $x_i$ is the measurement, $\\sigma_i$ is the uncertainty, and $m_i$ is the model.\n",
    "Compared to a basic least-squares which only estimates the parameters, this method provides goodness-of-fit and confidence intervals for the parameters."
   ]
  },
  {
   "cell_type": "code",
   "execution_count": 117,
   "metadata": {},
   "outputs": [
    {
     "name": "stdout",
     "output_type": "stream",
     "text": [
      "Start: 11 18668.99307271628\n",
      "Minimized:  9.371014404296874 3.654748602253942\n"
     ]
    },
    {
     "data": {
      "image/png": "[encoded data removed]",
      "text/plain": [
       "<Figure size 432x288 with 1 Axes>"
      ]
     },
     "metadata": {
      "needs_background": "light"
     },
     "output_type": "display_data"
    }
   ],
   "source": [
    "# The model\n",
    "def quadModel(a, t): return 0.5 * a * t**2\n",
    "\n",
    "# The D2\n",
    "def chi2(a): return np.sum([(x - quadModel(a, t))**2/e**2 for t, x, e in zip(t_s, xMeasured_m, xSigma_m)])\n",
    "\n",
    "\n",
    "#gBogus_ms2 = 1.0\n",
    "#tList_s  = np.linspace(t_s[0], t_s[-1], 100)\n",
    "\n",
    "#from scipy.optimize import minimize\n",
    "\n",
    "x0=[11] # Start value for minimization\n",
    "print(\"Start:\",  x0[0], delta2(x0[0]))\n",
    "res_3 = minimize(chi2, x0, method='nelder-mead') # Does the minimization\n",
    "print(\"Minimized: \", res_3.x[0], chi2(res_3.x))\n",
    "\n",
    "plt.plot(t_s, xMeasured_m, 'bo')\n",
    "#plt.plot(tList_s, [quadModel(x0[0], t) for t in tList_s], 'r-')\n",
    "plt.plot(tList_s, [quadModel(res_3.x, t) for t in tList_s], 'r-')\n",
    "plt.xlabel('t (s)'); plt.ylabel('h (m)'); plt.title(r'$\\chi^2=$' + str(\"%.1f\" % chi2(res_3.x)) + ', ' + r'$\\hat{g} = $' + str(\"%.1f\" % res_3.x[0]))\n",
    "plt.show()"
   ]
  },
  {
   "cell_type": "markdown",
   "metadata": {},
   "source": [
    "Lecture 9\n",
    "============"
   ]
  },
  {
   "cell_type": "markdown",
   "metadata": {},
   "source": [
    " * Gaussian and $\\chi^2$ distributions: probability density function, cumulative density function, most likely value, expectation, dofs, percentiles (Ryan, Sec 7)"
   ]
  },
  {
   "cell_type": "code",
   "execution_count": 5,
   "metadata": {},
   "outputs": [
    {
     "data": {
      "image/png": "[encoded data removed]",
      "text/plain": [
       "<Figure size 432x288 with 1 Axes>"
      ]
     },
     "metadata": {
      "needs_background": "light"
     },
     "output_type": "display_data"
    },
    {
     "data": {
      "image/png": "[encoded data removed]",
      "text/plain": [
       "<Figure size 432x288 with 1 Axes>"
      ]
     },
     "metadata": {
      "needs_background": "light"
     },
     "output_type": "display_data"
    },
    {
     "data": {
      "image/png": "[encoded data removed]",
      "text/plain": [
       "<Figure size 432x288 with 1 Axes>"
      ]
     },
     "metadata": {
      "needs_background": "light"
     },
     "output_type": "display_data"
    }
   ],
   "source": [
    "import numpy as np\n",
    "from scipy.stats import norm, chi2\n",
    "import matplotlib.pyplot as plt\n",
    "\n",
    "x = np.linspace(0, 10, 100)\n",
    "\n",
    "mu, sig = 4, 1\n",
    "plt.plot(x, norm.pdf(x, loc=mu, scale=sig), 'b-', lw=2)\n",
    "plt.xlabel('x'); plt.ylabel('Proba density function'); plt.title('Gaussian distrib')\n",
    "plt.show()\n",
    "\n",
    "df = [2, 5, 7]\n",
    "cols=['b', 'r', 'g']\n",
    "for d, c in zip(df, cols): plt.plot(x, chi2.pdf(x, df=d), c+'-', lw=5)\n",
    "plt.xlabel('x'); plt.ylabel('Proba density function'); plt.title(r'$\\chi^2$ distrib')\n",
    "plt.show()\n",
    "\n",
    "x = np.linspace(50, 150, 100)\n",
    "plt.plot(x, chi2.pdf(x, df=100), c+'-', lw=5)\n",
    "plt.xlabel('x'); plt.ylabel('Proba density function'); plt.title(r'$\\chi^2$ distrib')\n",
    "plt.show()\n"
   ]
  },
  {
   "cell_type": "markdown",
   "metadata": {},
   "source": [
    " * Application to $\\chi^2$: parameter estimation (Ryan, Sec 8)\n",
    "  * The $\\chi^2$ method is a least-squares weighted by the uncertainty on each measurement: $\\chi^2 =\\sum \\frac{(x_i-m_i)^2}{\\sigma_i^2}$, where $x_i$ is the measurement, $\\sigma_i$ is the uncertainty, and $m_i$ is the model.\n",
    "Compared to a basic least-squares which only estimates the parameters, this method provides goodness-of-fit and confidence intervals for the parameters."
   ]
  },
  {
   "cell_type": "code",
   "execution_count": null,
   "metadata": {},
   "outputs": [],
   "source": []
  },
  {
   "cell_type": "markdown",
   "metadata": {},
   "source": [
    "Lecture 10\n",
    "======="
   ]
  },
  {
   "cell_type": "markdown",
   "metadata": {},
   "source": [
    "* Cumulative distribution"
   ]
  },
  {
   "cell_type": "code",
   "execution_count": 7,
   "metadata": {},
   "outputs": [
    {
     "data": {
      "image/png": "[encoded data removed]",
      "text/plain": [
       "<Figure size 432x288 with 1 Axes>"
      ]
     },
     "metadata": {
      "needs_background": "light"
     },
     "output_type": "display_data"
    },
    {
     "data": {
      "image/png": "[encoded data removed]",
      "text/plain": [
       "<Figure size 432x288 with 1 Axes>"
      ]
     },
     "metadata": {
      "needs_background": "light"
     },
     "output_type": "display_data"
    }
   ],
   "source": [
    "import numpy as np\n",
    "from scipy.stats import norm, chi2\n",
    "import matplotlib.pyplot as plt\n",
    "\n",
    "x = np.linspace(0, 10, 100)\n",
    "\n",
    "mu, sig = 4, 1\n",
    "plt.plot(x, norm.pdf(x, loc=mu, scale=sig), 'b-', lw=2)\n",
    "plt.xlabel('x'); plt.ylabel('Proba density function'); plt.title('Gaussian distrib')\n",
    "plt.show()\n",
    "\n",
    "plt.plot(x, norm.cdf(x, loc=mu, scale=sig), 'r-', lw=2)\n",
    "plt.xlabel('x'); plt.ylabel('Cumul density function'); plt.title('Gaussian distrib')\n",
    "plt.show()\n"
   ]
  },
  {
   "cell_type": "markdown",
   "metadata": {},
   "source": [
    "* Mean, mode, median, expectation, standard deviation of a distribution"
   ]
  },
  {
   "cell_type": "code",
   "execution_count": null,
   "metadata": {},
   "outputs": [],
   "source": []
  },
  {
   "cell_type": "code",
   "execution_count": null,
   "metadata": {},
   "outputs": [],
   "source": []
  },
  {
   "cell_type": "markdown",
   "metadata": {},
   "source": [
    "  * $\\chi^2$: quantify goodness of fit, p-value (if model true, how likely it is to get a larger $\\chi^2$)  (Ryan, Sec 8)"
   ]
  },
  {
   "cell_type": "code",
   "execution_count": 10,
   "metadata": {},
   "outputs": [
    {
     "data": {
      "text/plain": [
       "Text(0, 0.5, 'h (m)')"
      ]
     },
     "execution_count": 10,
     "metadata": {},
     "output_type": "execute_result"
    },
    {
     "data": {
      "image/png": "[encoded data removed]",
      "text/plain": [
       "<Figure size 432x288 with 1 Axes>"
      ]
     },
     "metadata": {
      "needs_background": "light"
     },
     "output_type": "display_data"
    }
   ],
   "source": [
    "# Regenerate data\n",
    "\n",
    "t_s = [0.35446, 0.765, 2.2, 3.4, 4.1, 4.76, 5.1, 7.7, 9.8] # Sampling times\n",
    "g_ms2 = 9.81\n",
    "\n",
    "xIdeal_m = [0.5 * g_ms2 * tt**2  for tt in t_s] # Measured heights if no errors\n",
    "\n",
    "xSigma_m = [50] * len(t_s) # Standard deviations at each measuremment\n",
    "\n",
    "from scipy.stats import norm\n",
    "xErr_m = [norm.rvs(loc=0, scale=s) for s in xSigma_m] # Actual error at each pt\n",
    "\n",
    "# Combine errors with ideal points\n",
    "xMeasured_m = [x+e for x, e in zip(xIdeal_m, xErr_m)]\n",
    "#print(xSigma_m, xErr_m, xMeasured_m)\n",
    "\n",
    "plt.errorbar(t_s, xIdeal_m, yerr=xSigma_m, marker='o', ls='')\n",
    "plt.plot(t_s, xMeasured_m, 'rx')\n",
    "plt.xlabel('t (s)'); plt.ylabel('h (m)')"
   ]
  },
  {
   "cell_type": "code",
   "execution_count": 22,
   "metadata": {},
   "outputs": [
    {
     "name": "stdout",
     "output_type": "stream",
     "text": [
      "Minimized:  10.040454101562498 3.549608297038669\n"
     ]
    },
    {
     "data": {
      "image/png": "[encoded data removed]",
      "text/plain": [
       "<Figure size 432x288 with 1 Axes>"
      ]
     },
     "metadata": {
      "needs_background": "light"
     },
     "output_type": "display_data"
    }
   ],
   "source": [
    "from scipy.optimize import minimize\n",
    "\n",
    "# The model\n",
    "def quadModel(a, t): return 0.5 * a * t**2\n",
    "\n",
    "# The D2\n",
    "def chi2(a): return np.sum([(x - quadModel(a, t))**2/e**2 for t, x, e in zip(t_s, xMeasured_m, xSigma_m)])\n",
    "\n",
    "\n",
    "#gBogus_ms2 = 1.0\n",
    "tList_s  = np.linspace(t_s[0], t_s[-1], 100)\n",
    "\n",
    "#from scipy.optimize import minimize\n",
    "\n",
    "x0=[11] # Start value for minimization\n",
    "#print(\"Start:\",  x0[0], delta2(x0[0]))\n",
    "res_3 = minimize(chi2, x0, method='nelder-mead') # Does the minimization\n",
    "chi2Hat = chi2(res_3.x)\n",
    "print(\"Minimized: \", res_3.x[0], chi2(res_3.x))\n",
    "\n",
    "plt.plot(t_s, xMeasured_m, 'bo')\n",
    "#plt.plot(tList_s, [quadModel(x0[0], t) for t in tList_s], 'r-')\n",
    "plt.plot(tList_s, [quadModel(res_3.x, t) for t in tList_s], 'r-')\n",
    "plt.xlabel('t (s)'); plt.ylabel('h (m)'); plt.title(r'$\\chi^2=$' + str(\"%.1f\" % chi2(res_3.x)) + ', ' + r'$\\hat{g} = $' + str(\"%.1f\" % res_3.x[0]))\n",
    "plt.show()"
   ]
  },
  {
   "cell_type": "code",
   "execution_count": 28,
   "metadata": {},
   "outputs": [
    {
     "data": {
      "image/png": "[encoded data removed]",
      "text/plain": [
       "<Figure size 432x288 with 1 Axes>"
      ]
     },
     "metadata": {
      "needs_background": "light"
     },
     "output_type": "display_data"
    },
    {
     "data": {
      "image/png": "[encoded data removed]",
      "text/plain": [
       "<Figure size 432x288 with 1 Axes>"
      ]
     },
     "metadata": {
      "needs_background": "light"
     },
     "output_type": "display_data"
    },
    {
     "name": "stdout",
     "output_type": "stream",
     "text": [
      "Proba of getting a larger chi2: p=0.8953056315045648\n",
      "p-value large, implying that model and data are consistent\n"
     ]
    }
   ],
   "source": [
    "from scipy.stats import norm, chi2\n",
    "\n",
    "xx=np.linspace(0, 30, 100)\n",
    "df = len(t_s) - 1 # Degrees of freedom: number of samples - number of parameters\n",
    "\n",
    "\n",
    "plt.plot(xx, chi2.pdf(xx, df=df), 'r-', lw=2)\n",
    "plt.xlabel('x'); plt.ylabel('Proba density function'); plt.title('Chi2 distrib')\n",
    "ax=plt.gca()\n",
    "ax.axvline(chi2Hat, color='blue')\n",
    "plt.show()\n",
    "\n",
    "\n",
    "plt.plot(xx, chi2.cdf(xx, df=df), 'r-', lw=2)\n",
    "plt.plot(xx, chi2.sf(xx, df=df), 'g-', lw=2)\n",
    "plt.xlabel('x'); plt.ylabel('Cumul density function'); plt.title('Chi2 distrib')\n",
    "ax=plt.gca()\n",
    "ax.axvline(chi2Hat, color='blue')\n",
    "plt.show()\n",
    "\n",
    "print('Proba of getting a larger chi2: p=' + str(chi2.sf(chi2Hat, df=df)) ) # p value\n",
    "print('p-value large, implying that model and data are consistent')\n"
   ]
  },
  {
   "cell_type": "markdown",
   "metadata": {},
   "source": [
    "* Example of a bad fit"
   ]
  },
  {
   "cell_type": "code",
   "execution_count": 32,
   "metadata": {},
   "outputs": [
    {
     "name": "stdout",
     "output_type": "stream",
     "text": [
      "Minimized:  293.54007568359526 70.85356668647577\n"
     ]
    },
    {
     "data": {
      "image/png": "[encoded data removed]",
      "text/plain": [
       "<Figure size 432x288 with 1 Axes>"
      ]
     },
     "metadata": {
      "needs_background": "light"
     },
     "output_type": "display_data"
    }
   ],
   "source": [
    "# The model\n",
    "def badModel(a, t): return 0.5 * a\n",
    "\n",
    "# The D2\n",
    "def badChi2(a): return np.sum([(x - badModel(a, t))**2/e**2 for t, x, e in zip(t_s, xMeasured_m, xSigma_m)])\n",
    "\n",
    "\n",
    "#gBogus_ms2 = 1.0\n",
    "tList_s  = np.linspace(t_s[0], t_s[-1], 100)\n",
    "\n",
    "#from scipy.optimize import minimize\n",
    "\n",
    "x0=[11] # Start value for minimization\n",
    "#print(\"Start:\",  x0[0], delta2(x0[0]))\n",
    "resBad = minimize(badChi2, x0, method='nelder-mead') # Does the minimization\n",
    "chi2HatBad = badChi2(resBad.x)\n",
    "print(\"Minimized: \", resBad.x[0], badChi2(resBad.x))\n",
    "\n",
    "plt.plot(t_s, xMeasured_m, 'bo')\n",
    "#plt.plot(tList_s, [quadModel(x0[0], t) for t in tList_s], 'r-')\n",
    "plt.plot(tList_s, [badModel(resBad.x, t) for t in tList_s], 'r-')\n",
    "plt.xlabel('t (s)'); plt.ylabel('h (m)'); plt.title(r'$\\chi^2=$' + str(\"%.1f\" % badChi2(resBad.x)))\n",
    "plt.show()"
   ]
  },
  {
   "cell_type": "code",
   "execution_count": 36,
   "metadata": {},
   "outputs": [
    {
     "data": {
      "image/png": "[encoded data removed]",
      "text/plain": [
       "<Figure size 432x288 with 1 Axes>"
      ]
     },
     "metadata": {
      "needs_background": "light"
     },
     "output_type": "display_data"
    },
    {
     "data": {
      "image/png": "[encoded data removed]",
      "text/plain": [
       "<Figure size 432x288 with 1 Axes>"
      ]
     },
     "metadata": {
      "needs_background": "light"
     },
     "output_type": "display_data"
    },
    {
     "name": "stdout",
     "output_type": "stream",
     "text": [
      "Good\n",
      "\tProba of getting a larger chi2: p=0.8953056315045648\n",
      "Bad\n",
      "\tProba of getting a larger chi2: p=3.322411440066265e-12\n"
     ]
    }
   ],
   "source": [
    "from scipy.stats import norm, chi2\n",
    "\n",
    "xx=np.linspace(0, 80, 200)\n",
    "df = len(t_s) - 1 # Degrees of freedom: number of samples - number of parameters\n",
    "\n",
    "plt.plot(xx, chi2.pdf(xx, df=df), 'r-', lw=2)\n",
    "plt.xlabel('x'); plt.ylabel('Proba density function'); plt.title('Chi2 distrib')\n",
    "ax=plt.gca()\n",
    "ax.axvline(chi2Hat, color='blue'); ax.axvline(chi2HatBad, color='orange')\n",
    "plt.show()\n",
    "\n",
    "\n",
    "plt.plot(xx, chi2.cdf(xx, df=df), 'r-', lw=2)\n",
    "plt.plot(xx, chi2.sf(xx, df=df), 'g-', lw=2)\n",
    "plt.xlabel('x'); plt.ylabel('Cumul density function'); plt.title('Chi2 distrib')\n",
    "ax=plt.gca()\n",
    "ax.axvline(chi2Hat, color='blue'); ax.axvline(chi2HatBad, color='orange')\n",
    "plt.show()\n",
    "\n",
    "for cH, title in zip([chi2Hat, chi2HatBad], ['Good', 'Bad']):\n",
    "    print(title)\n",
    "    print('\\tProba of getting a larger chi2: p=' + str(chi2.sf(cH, df=df)) ) # p value\n",
    "    #print('\\tp-value large, implying that model and data are consistent')\n"
   ]
  },
  {
   "cell_type": "markdown",
   "metadata": {},
   "source": [
    "Lecture 11\n",
    "==="
   ]
  },
  {
   "cell_type": "markdown",
   "metadata": {},
   "source": [
    "* $\\chi^2$ recap so far:\n",
    " * Parameter estimation (may be biased)\n",
    " * Goodness of fit (p-value)\n",
    "* $\\chi^2$ confidence intervals: \n",
    " * Under some assumptions, find $\\Delta \\chi^2 = 1$ to get 68% coverage (frequentist) \n",
    " * Frequentist meaning of confidence intervals: if the experiment is repeated many times, the confidence intervals will contain the true value 68% (or whatever the confidence level is) of the time"
   ]
  },
  {
   "cell_type": "code",
   "execution_count": 5,
   "metadata": {},
   "outputs": [
    {
     "data": {
      "image/png": "[encoded data removed]",
      "text/plain": [
       "<Figure size 432x288 with 1 Axes>"
      ]
     },
     "metadata": {
      "needs_background": "light"
     },
     "output_type": "display_data"
    },
    {
     "data": {
      "text/plain": [
       "{'Errors': [39.47096160378631,\n",
       "  -38.60436227201781,\n",
       "  -16.493156448848232,\n",
       "  17.893860412985525,\n",
       "  25.671386414513105,\n",
       "  6.000111329094084,\n",
       "  15.399090712253427,\n",
       "  -19.765891214953214,\n",
       "  -0.24318040273909527],\n",
       " 'Data': [40.087235082084305,\n",
       "  -35.73383364701781,\n",
       "  7.247043551151773,\n",
       "  74.59566041298552,\n",
       "  108.12443641451311,\n",
       "  117.13563932909408,\n",
       "  142.97814071225343,\n",
       "  271.05155878504684,\n",
       "  470.83301959726106],\n",
       " 'Time': [0.35446, 0.765, 2.2, 3.4, 4.1, 4.76, 5.1, 7.7, 9.8],\n",
       " 'Sigma': [50.0, 50.0, 50.0, 50.0, 50.0, 50.0, 50.0, 50.0, 50.0]}"
      ]
     },
     "execution_count": 5,
     "metadata": {},
     "output_type": "execute_result"
    }
   ],
   "source": [
    "# Regenerate data\n",
    "# Make it a function\n",
    "\n",
    "from scipy.stats import norm, chi2\n",
    "import matplotlib.pyplot as plt\n",
    "import numpy as np\n",
    "from scipy import optimize\n",
    "from scipy.optimize import minimize\n",
    "\n",
    "\n",
    "# Create mock data set\n",
    "\n",
    "def genData(plot=True):\n",
    "    t_s = [0.35446, 0.765, 2.2, 3.4, 4.1, 4.76, 5.1, 7.7, 9.8] # Sampling times\n",
    "    g_ms2 = 9.81\n",
    "    xIdeal_m = [0.5 * g_ms2 * t**2 for t in t_s] # Measured heights if no errors\n",
    "\n",
    "    xSigma_m = [50.0 for t in t_s]\n",
    "\n",
    "    xErr_m = [norm.rvs(loc=0, scale=s) for s in xSigma_m] # Actual error\n",
    "\n",
    "    xMeasured_m = [x+e for x, e in zip(xIdeal_m, xErr_m)] # Measured value is ideal + error\n",
    "\n",
    "    # Display the data\n",
    "    if plot:\n",
    "        plt.errorbar(t_s, xMeasured_m, yerr = xErr_m, ls='', marker='o')\n",
    "        plt.xlabel('t')\n",
    "        plt.ylabel('x')\n",
    "        plt.show()\n",
    "        \n",
    "    return {'Errors': xErr_m, 'Data': xMeasured_m, 'Time': t_s, 'Sigma': xSigma_m}\n",
    "\n",
    "genData()\n"
   ]
  },
  {
   "cell_type": "code",
   "execution_count": 42,
   "metadata": {},
   "outputs": [
    {
     "data": {
      "image/png": "[encoded data removed]",
      "text/plain": [
       "<Figure size 432x288 with 1 Axes>"
      ]
     },
     "metadata": {
      "needs_background": "light"
     },
     "output_type": "display_data"
    },
    {
     "data": {
      "text/plain": [
       "{'gHat': 9.702129882812514,\n",
       " '68% conf int': [8.867887886004892, 10.536359203427262],\n",
       " 'chi2Hat': 7.393316962322552}"
      ]
     },
     "execution_count": 42,
     "metadata": {},
     "output_type": "execute_result"
    }
   ],
   "source": [
    "# Define 1 par model and ch2\n",
    "\n",
    "def singleSim(plotData=False, plotChi2=True):\n",
    "    \n",
    "    dat = genData(plot=plotData)\n",
    "    t, x, sig = dat['Time'], dat['Data'], dat['Sigma']\n",
    "    \n",
    "    def quadMod(t, a): return 0.5 * a * t**2\n",
    "\n",
    "    def quadChi2(a): return np.sum([(xx - quadMod(tt, a))**2 / ss**2 for xx, tt, ss in zip(x, t, sig)])\n",
    "    \n",
    "    x0=[6.23]\n",
    "    res = minimize(quadChi2, x0, method='nelder-mead')\n",
    "    \n",
    "    gHat = res.x[0]\n",
    "    chi2Hat = quadChi2(gHat)\n",
    "    #print('gHat', gHat, 'chi2Hat', chi2Hat)\n",
    "    \n",
    "    if plotChi2:\n",
    "        aRng = np.linspace(7, 12, 100) # Range for plot\n",
    "        plt.plot(aRng, [quadChi2(aa) for aa in aRng], 'b-', lw=3)\n",
    "        plt.xlabel('a'); plt.ylabel(r'$\\chi^2$')\n",
    "        plt.axvline(gHat, color='red', lw=3)\n",
    "        plt.axhline(chi2Hat, color='green', lw=3); plt.axhline(chi2Hat+1, color='orange', lw=3)\n",
    "        plt.show()\n",
    "    \n",
    "    def deltaQuadChi2(a): return quadChi2(a) - chi2Hat - 1.0\n",
    "    \n",
    "    # Find 68% conf intervals\n",
    "    gHi = (optimize.root_scalar(deltaQuadChi2, bracket=[gHat, gHat+10], method='brentq')).root\n",
    "    gLo = (optimize.root_scalar(deltaQuadChi2, bracket=[gHat-10, gHat], method='brentq')).root\n",
    "    #print(gLo, gHi)\n",
    "    \n",
    "    return {'gHat': gHat, '68% conf int': [gLo, gHi], 'chi2Hat': chi2Hat}\n",
    "    \n",
    "singleSim()"
   ]
  },
  {
   "cell_type": "code",
   "execution_count": null,
   "metadata": {},
   "outputs": [],
   "source": [
    "# Plot chi2 vs par"
   ]
  },
  {
   "cell_type": "code",
   "execution_count": 43,
   "metadata": {},
   "outputs": [
    {
     "data": {
      "image/png": "[encoded data removed]",
      "text/plain": [
       "<Figure size 432x288 with 1 Axes>"
      ]
     },
     "metadata": {
      "needs_background": "light"
     },
     "output_type": "display_data"
    },
    {
     "name": "stdout",
     "output_type": "stream",
     "text": [
      "Coverage: 663 0.663\n",
      "frequentist interpretation of confidence interval is that it if many experiments carried out, 1-sigma confidence intervals should congtain the true value 68% of time\n"
     ]
    }
   ],
   "source": [
    "# Check coverage\n",
    "# Meaning of frequentist confidence interval\n",
    "nSim = 1000\n",
    "res = [singleSim(plotData=False, plotChi2=False) for i in range(nSim)]\n",
    "#print(res)\n",
    "#print([r['gHat'] for r in res])\n",
    "plt.hist([r['gHat'] for r in res])\n",
    "plt.axvline(9.81, color='red', lw=3)\n",
    "plt.xlabel(r'$\\hat{g}$'); plt.ylabel('Counts per bin'); plt.title('Estimator is not biased')\n",
    "plt.show()\n",
    "\n",
    "coverage = [r['68% conf int'][0] <= 9.81 <= r['68% conf int'][-1] for r in res]\n",
    "#print(coverage)\n",
    "cov = np.sum(coverage)\n",
    "print('Coverage:', cov, 1.0 * cov/len(coverage))\n",
    "print('frequentist interpretation of confidence interval is that it if many experiments carried out, 1-sigma confidence intervals should congtain the true value 68% of time')"
   ]
  },
  {
   "cell_type": "markdown",
   "metadata": {},
   "source": [
    "Lecture 12\n",
    "===\n",
    "\n",
    "* Assgt 3 due March 6\n",
    "* Documenting code\n",
    " * Structure: \n",
    "    * imports grouped at the start of the file\n",
    "    * use functions to make code easier to understand\n",
    " * Comments"
   ]
  },
  {
   "cell_type": "code",
   "execution_count": null,
   "metadata": {},
   "outputs": [],
   "source": [
    "# This is a comment\n",
    "\n",
    "def cubeVol_m3(l_m):\n",
    "    ''' This function returs the volume of a cube given the side length\n",
    "    l_m: length of side\n",
    "    returns l_m**3\n",
    "    '''\n",
    "    return l_m**3"
   ]
  },
  {
   "cell_type": "markdown",
   "metadata": {},
   "source": [
    "* Drawing random variables:\n",
    " * Scipy libraries: example https://docs.scipy.org/doc/scipy/reference/generated/scipy.stats.chi2.html#scipy.stats.chi2\n",
    " * Custom methods\n",
    "    * Invert CDF\n",
    "    * Monte Carlo"
   ]
  },
  {
   "cell_type": "code",
   "execution_count": 16,
   "metadata": {},
   "outputs": [
    {
     "data": {
      "image/png": "[encoded data removed]",
      "text/plain": [
       "<Figure size 432x288 with 1 Axes>"
      ]
     },
     "metadata": {
      "needs_background": "light"
     },
     "output_type": "display_data"
    },
    {
     "data": {
      "image/png": "[encoded data removed]",
      "text/plain": [
       "<Figure size 432x288 with 1 Axes>"
      ]
     },
     "metadata": {
      "needs_background": "light"
     },
     "output_type": "display_data"
    }
   ],
   "source": [
    "from scipy.stats import chi2, norm\n",
    "import numpy as np\n",
    "import matplotlib.pyplot as plt\n",
    "\n",
    "df = 12\n",
    "mu, sig = 10, 3\n",
    "\n",
    "x = np.linspace(0, 50, 100)\n",
    "\n",
    "plt.plot(x, chi2.pdf(x, df=df), 'b-', lw=3)\n",
    "plt.plot(x, norm.pdf(x, loc=mu, scale=sig), 'r-', lw=3)\n",
    "plt.xlabel('x'); plt.ylabel('PDF'); plt.title(r'$\\chi^2$ and normal distribution')\n",
    "plt.show()\n",
    "\n",
    "plt.plot(x, chi2.cdf(x, df=df), 'b-', lw=3)\n",
    "plt.plot(x, norm.cdf(x, loc=mu, scale=sig), 'r-', lw=3)\n",
    "plt.xlabel('x'); plt.ylabel('CDF'); plt.title(r'$\\chi^2$ and normal  distribution')\n",
    "plt.show()"
   ]
  },
  {
   "cell_type": "code",
   "execution_count": 19,
   "metadata": {},
   "outputs": [
    {
     "data": {
      "image/png": "[encoded data removed]",
      "text/plain": [
       "<Figure size 432x288 with 1 Axes>"
      ]
     },
     "metadata": {
      "needs_background": "light"
     },
     "output_type": "display_data"
    }
   ],
   "source": [
    "# Generate random variables\n",
    "\n",
    "n = 10000\n",
    "\n",
    "xC = chi2.rvs(df=df, size=n)\n",
    "xG = norm.rvs(loc=mu, scale=sig, size=n)\n",
    "\n",
    "plt.hist(xC, bins=np.linspace(0, 40, 81), histtype='step', color='b', lw=3)\n",
    "plt.hist(xG, bins=np.linspace(0, 40, 81), histtype='step', color='r', lw=3)\n",
    "plt.xlabel('x'); plt.ylabel('Counts per bin')\n",
    "plt.show()\n",
    "\n",
    "xG = norm.rvs(loc=mu, scale=sig, size=n)"
   ]
  },
  {
   "cell_type": "code",
   "execution_count": 21,
   "metadata": {},
   "outputs": [
    {
     "data": {
      "image/png": "[encoded data removed]",
      "text/plain": [
       "<Figure size 432x288 with 1 Axes>"
      ]
     },
     "metadata": {
      "needs_background": "light"
     },
     "output_type": "display_data"
    }
   ],
   "source": [
    "# Calculate CDF at each random variable \n",
    "\n",
    "cdfC = chi2.cdf(xC, df=df)\n",
    "cdfG = norm.cdf(xG, loc=mu, scale=sig)\n",
    "\n",
    "plt.hist(cdfC, bins=np.linspace(0, 1, 101), histtype='step', color='b', lw=3)\n",
    "plt.hist(cdfG, bins=np.linspace(0, 1, 101), histtype='step', color='r', lw=3)\n",
    "plt.xlabel('CDF(x)'); plt.ylabel('Counts per bin')\n",
    "plt.show()"
   ]
  },
  {
   "cell_type": "markdown",
   "metadata": {},
   "source": [
    " * Many functions can not be integrated analytically but can be integrated numerically.  Methods include the trapezoidal one: https://en.wikipedia.org/wiki/Trapezoidal_rule.  Numerical integration is implemented in various libraries, including scipy.integrate.  An example follows."
   ]
  },
  {
   "cell_type": "code",
   "execution_count": 22,
   "metadata": {},
   "outputs": [
    {
     "name": "stdout",
     "output_type": "stream",
     "text": [
      "330.66666666666663 3.671137468093851e-12\n"
     ]
    }
   ],
   "source": [
    "import numpy as np\n",
    "import scipy.integrate as integrate\n",
    "\n",
    "def f(x): return x**2 # The fc to integrate\n",
    "\n",
    "a, b = 2, 10 # The bounds\n",
    "\n",
    "res, err = integrate.quad(f, a, b) # The integration\n",
    "\n",
    "print(res, err)"
   ]
  },
  {
   "cell_type": "code",
   "execution_count": null,
   "metadata": {},
   "outputs": [],
   "source": []
  },
  {
   "cell_type": "code",
   "execution_count": null,
   "metadata": {},
   "outputs": [],
   "source": []
  }
 ],
 "metadata": {
  "kernelspec": {
   "display_name": "Python 3",
   "language": "python",
   "name": "python3"
  },
  "language_info": {
   "codemirror_mode": {
    "name": "ipython",
    "version": 3
   },
   "file_extension": ".py",
   "mimetype": "text/x-python",
   "name": "python",
   "nbconvert_exporter": "python",
   "pygments_lexer": "ipython3",
   "version": "3.8.5"
  }
 },
 "nbformat": 4,
 "nbformat_minor": 4
}
