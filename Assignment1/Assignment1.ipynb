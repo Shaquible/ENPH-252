{
 "cells": [
  {
   "cell_type": "markdown",
   "metadata": {},
   "source": [
    "ENPH 252/PHYS 250 2022W Assignment 1\n",
    "====================================\n",
    "Reply by completing this notebook, then submit it to onQ.  Document all answers.  This is open book, and you can work on this with others, but what you submit must reflect your individual work and not be copied from other sources (use of original variable names is recommended).  Rename notebook to YOURLASTNAME.ipynb before submitting."
   ]
  },
  {
   "cell_type": "markdown",
   "metadata": {},
   "source": [
    "Student lastname and name: Keegan Kelly\n",
    "-------------------------"
   ]
  },
  {
   "cell_type": "markdown",
   "metadata": {
    "jp-MarkdownHeadingCollapsed": true,
    "tags": []
   },
   "source": [
    "Q1)\n",
    "---\n",
    "Define variables for complex numbers 5+j and 4-3j, as well as for their sum and product, and determine magnitude, phase, real part and imaginary part, and conjugate of each."
   ]
  },
  {
   "cell_type": "code",
   "execution_count": 65,
   "metadata": {},
   "outputs": [],
   "source": [
    "import cmath\n",
    "z1 = 5+ 1j\n",
    "z2 = 4- 3j\n",
    "z3 = z1 + z2\n",
    "z4 = z1 * z2\n",
    "cNums = [z1, z2, z3, z4]\n"
   ]
  },
  {
   "cell_type": "markdown",
   "metadata": {},
   "source": [
    "Q2)\n",
    "---\n",
    "Print the results from the previous question, including headers, using a loop, to make it easy to read."
   ]
  },
  {
   "cell_type": "code",
   "execution_count": 66,
   "metadata": {},
   "outputs": [
    {
     "name": "stdout",
     "output_type": "stream",
     "text": [
      "Magnitude of (5+1j) = 5.0990195135927845\n",
      "Phase of (5+1j) = 0.19739555984988075\n",
      "Real Part of (5+1j) = 5.0\n",
      "Imaginary Part of (5+1j) = 1.0\n",
      "Conjugate of (5+1j) = (5-1j)\n",
      "Magnitude of (4-3j) = 5.0\n",
      "Phase of (4-3j) = -0.6435011087932844\n",
      "Real Part of (4-3j) = 4.0\n",
      "Imaginary Part of (4-3j) = -3.0\n",
      "Conjugate of (4-3j) = (4+3j)\n",
      "Magnitude of (9-2j) = 9.219544457292887\n",
      "Phase of (9-2j) = -0.21866894587394195\n",
      "Real Part of (9-2j) = 9.0\n",
      "Imaginary Part of (9-2j) = -2.0\n",
      "Conjugate of (9-2j) = (9+2j)\n",
      "Magnitude of (23-11j) = 25.495097567963924\n",
      "Phase of (23-11j) = -0.44610554894340365\n",
      "Real Part of (23-11j) = 23.0\n",
      "Imaginary Part of (23-11j) = -11.0\n",
      "Conjugate of (23-11j) = (23+11j)\n"
     ]
    }
   ],
   "source": [
    "for z in cNums:\n",
    "    print(\"Magnitude of\", z, \"=\", (z.real**2 + z.imag**2)**0.5)\n",
    "    print(\"Phase of\", z, \"=\", cmath.phase(z))\n",
    "    print(\"Real Part of\", z, \"=\", z.real)\n",
    "    print(\"Imaginary Part of\", z, \"=\", z.imag)\n",
    "    print(\"Conjugate of\", z, \"=\", z.conjugate())"
   ]
  },
  {
   "cell_type": "markdown",
   "metadata": {},
   "source": [
    "Q3)\n",
    "---\n",
    "Define a function that takes two complex impedances as variables, and returns a dictionnary with the parallel and series impedances"
   ]
  },
  {
   "cell_type": "code",
   "execution_count": 67,
   "metadata": {},
   "outputs": [],
   "source": [
    "def series_parallel_impedance(z1, z2):\n",
    "    series = z1 + z2\n",
    "    parallel = z1 * z2/(z1+z2)\n",
    "    return {\"Series\": series, \"Parallel\": parallel}"
   ]
  },
  {
   "cell_type": "markdown",
   "metadata": {},
   "source": [
    "Q4)\n",
    "---\n",
    "Plot (as a function of angular frequency), the magnitude and the phase of the inductance resulting from a resistor (1.2 kOhm) and inductor (1.5 mH) in parallel.  Use a logarithmic axis for the frequency, and for the magnitude. Use the range [10, 10**10] rad/s.  The impedance of an inductance L is $L j \\omega$.  Label axes."
   ]
  },
  {
   "cell_type": "code",
   "execution_count": 12,
   "metadata": {},
   "outputs": [
    {
     "data": {
      "image/png": "[encoded data removed]",
      "text/plain": [
       "<Figure size 432x288 with 1 Axes>"
      ]
     },
     "metadata": {
      "needs_background": "light"
     },
     "output_type": "display_data"
    },
    {
     "data": {
      "image/png": "[encoded data removed]",
      "text/plain": [
       "<Figure size 432x288 with 1 Axes>"
      ]
     },
     "metadata": {
      "needs_background": "light"
     },
     "output_type": "display_data"
    }
   ],
   "source": [
    "import matplotlib.pyplot as plt\n",
    "import numpy as np\n",
    "import cmath\n",
    "def parallel_impedance(w):\n",
    "    R = 1200\n",
    "    #inductor impedance\n",
    "    Z = complex(0,0.0015*w)\n",
    "    imp = R*Z/(R+Z)\n",
    "    return ((imp.real**2 + imp.imag**2)**0.5)\n",
    "def phase_angle(w):\n",
    "    R = 1200\n",
    "    #inductor impedance\n",
    "    Z = complex(0,0.0015*w)\n",
    "    imp = R*Z/(R+Z)\n",
    "    return cmath.phase(imp)\n",
    "ws = np.linspace(10, 10**10, 10**7)\n",
    "Zs = [parallel_impedance(w) for w in ws]\n",
    "plt.plot(ws, Zs)\n",
    "plt.xscale(\"log\")\n",
    "plt.yscale(\"log\")\n",
    "plt.xlabel(\"Angular Frequency (rad/s)\")\n",
    "plt.ylabel(\"Impedance ($\\Omega$)\")\n",
    "plt.show()\n",
    "plt.clf()\n",
    "phase = [phase_angle(w) for w in ws]\n",
    "plt.plot(ws,phase)\n",
    "plt.xlabel(\"Angular Frequency (rad/s)\")\n",
    "plt.ylabel(\"Phase (rad)\")\n",
    "plt.xscale(\"log\")\n",
    "plt.show()"
   ]
  },
  {
   "cell_type": "markdown",
   "metadata": {},
   "source": [
    "Q5)\n",
    "---\n",
    "Read the txt file DataFileA1Q5.txt. Plot the second \n",
    "column (Velocity in m/s) vs the first (Temperature in K)\n",
    "Be sure to label axes and add an appropriate title.  "
   ]
  },
  {
   "cell_type": "code",
   "execution_count": null,
   "metadata": {},
   "outputs": [
    {
     "data": {
      "text/plain": [
       "Text(0.5, 1.0, 'Velocity vs Tempurature')"
      ]
     },
     "execution_count": 21,
     "metadata": {},
     "output_type": "execute_result"
    },
    {
     "data": {
      "image/png": "[encoded data removed]",
      "text/plain": [
       "<Figure size 432x288 with 1 Axes>"
      ]
     },
     "metadata": {
      "needs_background": "light"
     },
     "output_type": "display_data"
    }
   ],
   "source": [
    "import numpy as np\n",
    "import matplotlib.pyplot as plt\n",
    "infile = open(\"DataFileA1Q5.txt\", \"r\")\n",
    "data = np.loadtxt(infile, delimiter=\" \")\n",
    "plt.plot(data[:,0], data[:,1])\n",
    "plt.xlabel(\"Tempurature (K)\")\n",
    "plt.ylabel(\"Velocity (m/s)\")\n",
    "plt.title(\"Velocity vs Tempurature\")        "
   ]
  },
  {
   "cell_type": "markdown",
   "metadata": {},
   "source": [
    "Q6)\n",
    "---\n",
    "Read text file DataFileA1Q6.txt.  The data in the first and second column represents velocity and have units m/s. Plot a distribution of the first column multplied by the second column."
   ]
  },
  {
   "cell_type": "code",
   "execution_count": 71,
   "metadata": {},
   "outputs": [
    {
     "data": {
      "text/plain": [
       "[<matplotlib.lines.Line2D at 0x1c5c53c14e0>]"
      ]
     },
     "execution_count": 71,
     "metadata": {},
     "output_type": "execute_result"
    },
    {
     "data": {
      "image/png": "[encoded data removed]",
      "text/plain": [
       "<Figure size 432x288 with 1 Axes>"
      ]
     },
     "metadata": {
      "needs_background": "light"
     },
     "output_type": "display_data"
    }
   ],
   "source": [
    "import numpy as np\n",
    "import matplotlib.pyplot as plt\n",
    "infile = open(\"DataFileA1Q6.txt\", \"r\")\n",
    "data = np.loadtxt(infile, delimiter=\" \")\n",
    "prods = {}\n",
    "for i in range(len(data)):\n",
    "    prod = (data[i,1]*data[i,0])\n",
    "    if prod in prods:\n",
    "        prods[prod] += 1\n",
    "    else:\n",
    "        prods[prod] = 1\n",
    "prod_list = prods.items()\n",
    "prod_list = sorted(prod_list)\n",
    "x,y = zip(*prod_list)\n",
    "plt.plot(x,y)\n",
    "\n",
    "\n",
    "\n",
    "    \n",
    "        \n",
    "\n",
    "\n",
    "        "
   ]
  },
  {
   "cell_type": "code",
   "execution_count": null,
   "metadata": {},
   "outputs": [],
   "source": []
  }
 ],
 "metadata": {
  "kernelspec": {
   "display_name": "Python 3",
   "language": "python",
   "name": "python3"
  },
  "language_info": {
   "codemirror_mode": {
    "name": "ipython",
    "version": 3
   },
   "file_extension": ".py",
   "mimetype": "text/x-python",
   "name": "python",
   "nbconvert_exporter": "python",
   "pygments_lexer": "ipython3",
   "version": "3.10.1"
  }
 },
 "nbformat": 4,
 "nbformat_minor": 4
}
